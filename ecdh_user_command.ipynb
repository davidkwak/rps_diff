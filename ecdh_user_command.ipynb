{
 "cells": [
  {
   "cell_type": "code",
   "execution_count": 2,
   "metadata": {},
   "outputs": [],
   "source": [
    "import struct\n",
    "\n",
    "def countbytes(target):\n",
    "    if isinstance(target, str):\n",
    "        b = bytes(target,'utf-8')\n",
    "    elif isinstance(target, int):\n",
    "        b = target.to_bytes((target.bit_length() + 7) // 8, 'big')\n",
    "    else:\n",
    "        b = target\n",
    "    print(f\"original: {target}\")\n",
    "    print(f\"byte value : {b}\")\n",
    "    print(f\"size : {len(b)} bytes  \")\n"
   ]
  },
  {
   "cell_type": "code",
   "execution_count": 3,
   "metadata": {},
   "outputs": [],
   "source": [
    "def intobyte(intvalue):\n",
    "    return intvalue.to_bytes((intvalue.bit_length() + 7) // 8, 'big')\n",
    "\n",
    "def bytetoint(bytevalue):\n",
    "    return int.from_bytes(bytevalue, \"big\")\n"
   ]
  },
  {
   "cell_type": "code",
   "execution_count": 4,
   "metadata": {},
   "outputs": [],
   "source": [
    "import collections\n",
    "import random\n",
    "import time\n",
    "from Crypto.Hash import CMAC\n",
    "from Crypto.Cipher import AES\n",
    "import bitstring\n",
    "\n",
    "EllipticCurve = collections.namedtuple('EllipticCurve', 'name p a b g n h')\n",
    "\n",
    "#curve for NIST p-256\n",
    "curve = EllipticCurve(\n",
    "    'p256',\n",
    "    # Field characteristic.\n",
    "    p=0xffffffff00000001000000000000000000000000ffffffffffffffffffffffff,\n",
    "    # Curve coefficients.\n",
    "    a=0xffffffff00000001000000000000000000000000fffffffffffffffffffffffc,\n",
    "    b=0x5ac635d8aa3a93e7b3ebbd55769886bc651d06b0cc53b0f63bce3c3e27d2604b,\n",
    "    # Base point.\n",
    "    g=(0x6b17d1f2e12c4247f8bce6e563a440f277037d812deb33a0f4a13945d898c296,\n",
    "        0x4fe342e2fe1a7f9b8ee7eb4a7c0f9e162bce33576b315ececbb6406837bf51f5),\n",
    "    # Subgroup order.\n",
    "    n=0xffffffff00000000ffffffffffffffffbce6faada7179e84f3b9cac2fc632551,\n",
    "    # Subgroup cofactor.\n",
    "    h=1,\n",
    ")\n",
    "\n",
    "# Modular arithmetic ##########################################################\n",
    "def inverse_mod(k, p):\n",
    "    \"\"\"Returns the inverse of k modulo p.\n",
    "    This function returns the only integer x such that (x * k) % p == 1.\n",
    "    k must be non-zero and p must be a prime.\n",
    "    \"\"\"\n",
    "    if k == 0:\n",
    "        raise ZeroDivisionError('division by zero')\n",
    "\n",
    "    if k < 0:\n",
    "        # k ** -1 = p - (-k) ** -1  (mod p)\n",
    "        return p - inverse_mod(-k, p)\n",
    "\n",
    "    # Extended Euclidean algorithm.\n",
    "    s, old_s = 0, 1\n",
    "    t, old_t = 1, 0\n",
    "    r, old_r = p, k\n",
    "\n",
    "    while r != 0:\n",
    "        quotient = old_r // r\n",
    "        old_r, r = r, old_r - quotient * r\n",
    "        old_s, s = s, old_s - quotient * s\n",
    "        old_t, t = t, old_t - quotient * t\n",
    "\n",
    "    gcd, x, y = old_r, old_s, old_t\n",
    "\n",
    "    assert gcd == 1\n",
    "    assert (k * x) % p == 1\n",
    "\n",
    "    return x % p\n",
    "\n",
    "\n",
    "# Functions that work on curve points #########################################\n",
    "\n",
    "def is_on_curve(point):\n",
    "    \"\"\"Returns True if the given point lies on the elliptic curve.\"\"\"\n",
    "    if point is None:\n",
    "        # None represents the point at infinity.\n",
    "        return True\n",
    "\n",
    "    x, y = point\n",
    "\n",
    "    return (y * y - x * x * x - curve.a * x - curve.b) % curve.p == 0\n",
    "\n",
    "\n",
    "def point_add(point1, point2):\n",
    "    \"\"\"Returns the result of point1 + point2 according to the group law.\"\"\"\n",
    "    assert is_on_curve(point1)\n",
    "    assert is_on_curve(point2)\n",
    "\n",
    "    if point1 is None:\n",
    "        # 0 + point2 = point2\n",
    "        return point2\n",
    "    if point2 is None:\n",
    "        # point1 + 0 = point1\n",
    "        return point1\n",
    "\n",
    "    x1, y1 = point1\n",
    "    x2, y2 = point2\n",
    "\n",
    "    if x1 == x2 and y1 != y2:\n",
    "        # point1 + (-point1) = 0\n",
    "        return None\n",
    "\n",
    "    if x1 == x2:\n",
    "        # This is the case point1 == point2.\n",
    "        m = (3 * x1 * x1 + curve.a) * inverse_mod(2 * y1, curve.p)\n",
    "    else:\n",
    "        # This is the case point1 != point2.\n",
    "        m = (y1 - y2) * inverse_mod(x1 - x2, curve.p)\n",
    "\n",
    "    x3 = m * m - x1 - x2\n",
    "    y3 = y1 + m * (x3 - x1)\n",
    "    result = (x3 % curve.p, -y3 % curve.p)\n",
    "\n",
    "    assert is_on_curve(result)\n",
    "\n",
    "    return result\n",
    "\n",
    "\n",
    "def scalar_mult(k, point):\n",
    "    \"\"\"Returns k * point computed using the double and point_add algorithm.\"\"\"\n",
    "    assert is_on_curve(point)\n",
    "\n",
    "    if k % curve.n == 0 or point is None:\n",
    "        return None\n",
    "\n",
    "    if k < 0:\n",
    "        # k 가 음수일 경우 절대값으로 양수로 만듦 (현재 설정에선 음수가 나올 일은 없음)\n",
    "        # k * point = -k * (-point)\n",
    "        return scalar_mult(-k, point_neg(point))\n",
    "\n",
    "    result = None\n",
    "    addend = point\n",
    "\n",
    "    while k:\n",
    "        if k & 1:\n",
    "            # Add.\n",
    "            result = point_add(result, addend)\n",
    "\n",
    "        # Double.\n",
    "        addend = point_add(addend, addend)\n",
    "\n",
    "        k >>= 1\n",
    "\n",
    "    assert is_on_curve(result)\n",
    "\n",
    "    return result\n",
    "\n",
    "# Keypair generation and ECDSA ################################################\n",
    "def make_keypair():\n",
    "    \"\"\"Generates a random private-public key pair.\"\"\"\n",
    "    private_key = random.randrange(1, curve.n)\n",
    "    public_key = scalar_mult(private_key, curve.g)\n",
    "\n",
    "    return private_key, public_key\n"
   ]
  },
  {
   "cell_type": "code",
   "execution_count": 5,
   "metadata": {},
   "outputs": [],
   "source": [
    "# Challenge process\n",
    "from Crypto import Random\n",
    "from Crypto.Cipher import AES\n",
    "#Generate Nonce \n",
    "import binascii\n",
    "import os \n",
    "import struct \n",
    "import datetime \n",
    "\n",
    "BLOCK_SIZE = 16\n",
    "def pad(s):\n",
    "    s = s + (BLOCK_SIZE - len(s) % BLOCK_SIZE) * chr(BLOCK_SIZE - len(s) % BLOCK_SIZE).encode()\n",
    "    # print(f\"padding : {countbytes(s)}\")\n",
    "    return s\n",
    "\n",
    "def unpad(encrypted_string):\n",
    "    return encrypted_string[0:-(encrypted_string[-1])]\n",
    "\n",
    "\n",
    "class AESCipher(object):\n",
    "    def __init__(self, key):\n",
    "        self.key = key.encode()\n",
    "\n",
    "    def encrypt(self, raw):\n",
    "        raw = pad(raw)\n",
    "        iv = Random.new().read(AES.block_size)\n",
    "        # print(f\"iv : {countbytes(iv)}\")\n",
    "        cipher = AES.new(self.key, AES.MODE_CBC, iv)\n",
    "        # print(f\"cipher len : {len(cipher.encrypt(raw))}\")\n",
    "        return iv + cipher.encrypt(raw)\n",
    "    \n",
    "    def decrypt(self, enc):\n",
    "        iv = enc[:BLOCK_SIZE] \n",
    "        cipher = AES.new(self.key, AES.MODE_CBC, iv)\n",
    "        return unpad(cipher.decrypt(enc[BLOCK_SIZE:]))\n",
    "\n",
    "def AES_key_padding(z):\n",
    "    if len(z) > 32 : \n",
    "        z = z[:32]\n",
    "    else:\n",
    "        for i in range(32-len(z)):\n",
    "            z = z+\"0\"\n",
    "    return z "
   ]
  },
  {
   "cell_type": "markdown",
   "metadata": {},
   "source": [
    "# Generate Keys"
   ]
  },
  {
   "cell_type": "code",
   "execution_count": 6,
   "metadata": {},
   "outputs": [],
   "source": [
    "# 2.1. Gen. Mobile ECDH key pair\n",
    "phoneSecretKey, phonePublicKey = make_keypair() # phone side \n",
    "\n",
    "# 2.2. Gen. Vehicle ECDH key pair\n",
    "carSecretKey, carPublicKey = make_keypair() # car side "
   ]
  },
  {
   "cell_type": "code",
   "execution_count": 7,
   "metadata": {},
   "outputs": [],
   "source": [
    "# 2.3 Send mobile pub key\n",
    "# 2.4. Send vehicle pub key \n",
    "\n",
    "## exchange public keys\n",
    "    #phone sends public key to car\n",
    "    #car sends public key to phone"
   ]
  },
  {
   "cell_type": "code",
   "execution_count": 8,
   "metadata": {},
   "outputs": [],
   "source": [
    "# 2.6. Gen Mobile tk, vk \n",
    "phoneTemporaryKey= scalar_mult(phoneSecretKey, carPublicKey)[0] # phone side \n",
    "phoneVerificationKey= scalar_mult(phoneSecretKey, carPublicKey)[1] # phone side \n",
    "\n",
    "# 2.7. Gen Vehicle tk, vk\n",
    "carTemporaryKey = scalar_mult(carSecretKey, phonePublicKey)[0] # car side\n",
    "carVerificationKey = scalar_mult(carSecretKey, phonePublicKey)[1] # car side"
   ]
  },
  {
   "cell_type": "markdown",
   "metadata": {},
   "source": [
    "### Car --> Phone Challenge"
   ]
  },
  {
   "cell_type": "code",
   "execution_count": 9,
   "metadata": {},
   "outputs": [
    {
     "name": "stdout",
     "output_type": "stream",
     "text": [
      "original: b\"\\x10M'_Y\\xc3\\x87\\xe1+\\x85\\x98\\x1e\\x88+Wc\\x16\\x07F\\xf4\\xfe\\x8cA\\xe1 \\xecv\\xccs8Bs\\xc0\\xf2\\xd1\\x98\\xa5\\xe2-\\xb1\\xdf\\x83\\x1a$\\n,::\\x0e\\x08f0Z\\xf5\\xab\\x82\\xd4\\x14\\xc0\\xc4\\xfd\\x10\\x1bc\"\n",
      "byte value : b\"\\x10M'_Y\\xc3\\x87\\xe1+\\x85\\x98\\x1e\\x88+Wc\\x16\\x07F\\xf4\\xfe\\x8cA\\xe1 \\xecv\\xccs8Bs\\xc0\\xf2\\xd1\\x98\\xa5\\xe2-\\xb1\\xdf\\x83\\x1a$\\n,::\\x0e\\x08f0Z\\xf5\\xab\\x82\\xd4\\x14\\xc0\\xc4\\xfd\\x10\\x1bc\"\n",
      "size : 64 bytes  \n"
     ]
    }
   ],
   "source": [
    "# 3.1 Get vehicle sk from secure storage \n",
    "with open(\"./car_shared_key\", \"rb\") as f:\n",
    "    carSharedKey = bytetoint(f.read())\n",
    "\n",
    "# 3.2 Gen. vehicle challenge = nonce_c(4Byte), Timestamp_c (4Byte)\n",
    "nonce_c = int(binascii.hexlify(os.urandom(4)),16).to_bytes(4,\"big\")# 4byte random int\n",
    "ts = struct.pack(\">i\",int(datetime.datetime.timestamp(datetime.datetime.now())))\n",
    "challenge = nonce_c+ts\n",
    "\n",
    "\n",
    "# 3.3 enc_tk(enc_sk(challenge))\n",
    "AES_key1 = AES_key_padding(str(carSharedKey)) # 1 encryption with shared key \n",
    "AES_key2 = AES_key_padding(str(carTemporaryKey)) # 2 encryption with Temporary key \n",
    "\n",
    "Car_cipher1 = AESCipher(key=AES_key1) # generate encryption instance for 1st encryption with shared key\n",
    "Car_cipher2 = AESCipher(key=AES_key2)  # generate encryption instance for 2nd encryption  with Temporary key\n",
    "\n",
    "plain_challenge_from_car = challenge\n",
    "encrypted_challenge_from_car1 = Car_cipher1.encrypt(plain_challenge_from_car) # 1st encryption with shared key\n",
    "encrypted_challenge_from_car2 = Car_cipher2.encrypt(encrypted_challenge_from_car1) # 2nd encryption with Temporary  key\n",
    "\n",
    "countbytes(encrypted_challenge_from_car2)\n",
    "\n",
    "# 3.4 Send enc_tk(enc_sk(challenge)) to mobile (64 bytes)"
   ]
  },
  {
   "cell_type": "code",
   "execution_count": null,
   "metadata": {},
   "outputs": [],
   "source": []
  },
  {
   "cell_type": "code",
   "execution_count": null,
   "metadata": {},
   "outputs": [],
   "source": []
  },
  {
   "cell_type": "markdown",
   "metadata": {},
   "source": [
    "## car --> phone Challenge solve &  Phone --> Car Challenge"
   ]
  },
  {
   "cell_type": "code",
   "execution_count": 10,
   "metadata": {},
   "outputs": [
    {
     "name": "stdout",
     "output_type": "stream",
     "text": [
      "original: b'\\xda\\xda\\x88`\\xf5\\x08x\\xc7-\\xe3Q\\x1e\\x12\\xca\\xa6uRXh\\nc\\x87\\xf4\\xc1511\\xef\\xa8\\x19v\\xf5\\xbc]1u4k\\x89\\x81\\xc1\\xf5c\\x12:K,\\x12\\xb7\\x18\\x15\\xd7\\xf9\\x0e\\xc1p_\\xd3\\x91\\x9a\\xc1f\\xe0\\xf5\\xa3N\\x91\\x97\\xed\\xce\\xbaO\\xea.\\x86\\x9e1RU\\xb7\\xe4\\x00\\xadx0\\xff~\\xcc\\xa3\\x83\\x16\\x8e\\xa9\\t\\xa5X\\xf1s\\xca\\xb5\\x9fq\\xbe\\xe6/\\xce\\x03q\\x91\\xd8}\\x01\\xdb\\x97\\xd6\\xb2(o\\xee\\xfe]\\x1a*\\xd9\\x06\\xef\\xfe\\xaf'\n",
      "byte value : b'\\xda\\xda\\x88`\\xf5\\x08x\\xc7-\\xe3Q\\x1e\\x12\\xca\\xa6uRXh\\nc\\x87\\xf4\\xc1511\\xef\\xa8\\x19v\\xf5\\xbc]1u4k\\x89\\x81\\xc1\\xf5c\\x12:K,\\x12\\xb7\\x18\\x15\\xd7\\xf9\\x0e\\xc1p_\\xd3\\x91\\x9a\\xc1f\\xe0\\xf5\\xa3N\\x91\\x97\\xed\\xce\\xbaO\\xea.\\x86\\x9e1RU\\xb7\\xe4\\x00\\xadx0\\xff~\\xcc\\xa3\\x83\\x16\\x8e\\xa9\\t\\xa5X\\xf1s\\xca\\xb5\\x9fq\\xbe\\xe6/\\xce\\x03q\\x91\\xd8}\\x01\\xdb\\x97\\xd6\\xb2(o\\xee\\xfe]\\x1a*\\xd9\\x06\\xef\\xfe\\xaf'\n",
      "size : 128 bytes  \n"
     ]
    }
   ],
   "source": [
    "#3.5 get mobile sk from secure storage\n",
    "with open(\"./phone_shared_key\", \"rb\") as f:\n",
    "    phoneSharedKey = bytetoint(f.read())\n",
    "\n",
    "# dec_sk(dec_tk(enc_tk)) = challenge(nonce_c, timestamp_c)\n",
    "AES_key1 = AES_key_padding(str(phoneSharedKey)) # 1 encryption with shared key \n",
    "AES_key2 = AES_key_padding(str(phoneTemporaryKey)) # 2 encryption with Temporary key \n",
    "\n",
    "Phone_cipher1 = AESCipher(key=AES_key1)  # generate encryption instance for 1st encryption with shared key\n",
    "Phone_cipher2 = AESCipher(key=AES_key2)  # generate encryption instance for 2nd encryption  with Temporary key\n",
    "\n",
    "decrypted_challenge_from_car1 = Phone_cipher2.decrypt(encrypted_challenge_from_car2) # 1 decryption with Temporary key\n",
    "decrypted_challenge_from_car = Phone_cipher1.decrypt(decrypted_challenge_from_car1) # 2 decryption with shared key\n",
    "\n",
    "# 3.7 Gen. response = (nonce_c,timestamp_c, username)\n",
    "username=\"AUTOCRYPT\"\n",
    "padded_username = int(username.encode().hex(),16).to_bytes(64,\"big\")\n",
    "plain_response_from_phone = decrypted_challenge_from_car+padded_username\n",
    "\n",
    "# 3.8 enc_tk(enc_sk(response))\n",
    "encrypted_response_from_phone1 = Phone_cipher1.encrypt(plain_response_from_phone) # 1 encryption with shared key\n",
    "encrypted_response_from_phone2 = Phone_cipher2.encrypt(encrypted_response_from_phone1) # 2 encryption with Temporary key\n",
    "countbytes(encrypted_response_from_phone2)\n",
    "\n",
    "# 3.9 Send enc_tk(enc_sk(response)) to vehicle (128 bytes)"
   ]
  },
  {
   "cell_type": "code",
   "execution_count": 11,
   "metadata": {},
   "outputs": [
    {
     "name": "stdout",
     "output_type": "stream",
     "text": [
      "original: b'\\xaa1_\\x0bct\\x9bT'\n",
      "byte value : b'\\xaa1_\\x0bct\\x9bT'\n",
      "size : 8 bytes  \n"
     ]
    }
   ],
   "source": [
    "countbytes(decrypted_challenge_from_car)"
   ]
  },
  {
   "cell_type": "markdown",
   "metadata": {},
   "source": [
    "### Phone --> Car Challenge solve"
   ]
  },
  {
   "cell_type": "code",
   "execution_count": 12,
   "metadata": {},
   "outputs": [
    {
     "name": "stdout",
     "output_type": "stream",
     "text": [
      "nonce is valid\n",
      "timestamp is valid\n"
     ]
    }
   ],
   "source": [
    "#3.10 dec_sk(dec_tk(enc_tk)) = nonce_c,timestamp_c, username\n",
    "with open(\"./car_shared_key\", \"rb\") as f:\n",
    "    carSharedKey = bytetoint(f.read())\n",
    "\n",
    "AES_key1 = AES_key_padding(str(carSharedKey)) # 1 encryption with shared key \n",
    "AES_key2 = AES_key_padding(str(carTemporaryKey)) # 2 encryption with Temporary key \n",
    "\n",
    "Car_cipher1 = AESCipher(key=AES_key1) # generate encryption instance for 1st encryption with shared key \n",
    "Car_cipher2 = AESCipher(key=AES_key2) # generate encryption instance for 2nd encryption  with Temporary key\n",
    "\n",
    "decrypted_response_from_phone1 = Car_cipher2.decrypt(encrypted_response_from_phone2)  # 1 decryption with Temporary key\n",
    "decrypted_response_from_phone = Car_cipher1.decrypt(decrypted_response_from_phone1) # 2 decryption with shared key\n",
    "\n",
    "responsed_nonce_c = decrypted_response_from_phone[0:4] #extract nonce \n",
    "responsed_timestamp_c = decrypted_response_from_phone[4:8] # extract timestamp\n",
    "responsed_username = decrypted_response_from_phone[8:] # extract username\n",
    "unpad_responsed_username = responsed_username.decode().lstrip(\"\\x00\") # remove padding\n",
    "\n",
    "#3.11 Verify response timestmpa_p < timestamp.now() + timedelta(minutes = 5)       nonce_c == Nonce_c\n",
    "\n",
    "nowtime = int(datetime.datetime.timestamp(datetime.datetime.now()))\n",
    "challenge_time = int(responsed_timestamp_c.hex(),16)\n",
    "elapsed_minute = (nowtime-challenge_time)/60 \n",
    "\n",
    "if responsed_nonce_c == nonce_c:\n",
    "    print(\"nonce is valid\")\n",
    "    if elapsed_minute < 5 : # 5 minutes\n",
    "        print(\"timestamp is valid\")\n",
    "    else:\n",
    "        print(\"timeout\")\n",
    "else:\n",
    "    print(\"nonce invalid\")"
   ]
  },
  {
   "cell_type": "code",
   "execution_count": 13,
   "metadata": {},
   "outputs": [
    {
     "name": "stdout",
     "output_type": "stream",
     "text": [
      "original: b'\\xaa1_\\x0b'\n",
      "byte value : b'\\xaa1_\\x0b'\n",
      "size : 4 bytes  \n"
     ]
    }
   ],
   "source": [
    "countbytes(nonce_c)"
   ]
  },
  {
   "cell_type": "markdown",
   "metadata": {},
   "source": [
    "### Vehicle Info --> Phone "
   ]
  },
  {
   "cell_type": "code",
   "execution_count": 14,
   "metadata": {},
   "outputs": [],
   "source": [
    "# 4.1. Gen. vehicle info  RPS_DATA(CMD, MODE, Clearance, ETC) = 32 byte\n",
    "# 通信仕様_RPSSmartphone.xlsx \n",
    "# on vehicle side\n",
    "import bitstring\n",
    "CMD = bitstring.BitArray(hex=\"0x11\") #1byte \n",
    "MODE = bitstring.BitArray(hex=\"0x00\") #1byte \n",
    "ENG_Status_Reserved = bitstring.BitArray(bin=\"0b0\")  #1bit00\n",
    "Door_Lock_Status_Reserved = bitstring.BitArray(bin=\"0b0\")  #1bit00\n",
    "Advertise_Req = bitstring.BitArray(bin=\"0b00\")  #1bit00\n",
    "Longitudinal_direction = bitstring.BitArray(bin=\"0b00\")  #1bit00\n",
    "Lateral_direction = bitstring.BitArray(bin=\"0b00\")  #1bit00\n",
    "Progress = bitstring.BitArray(hex=\"0x55\") #1byte 0x00~0x64 (100)\n",
    "clearance1 =bitstring.BitArray(bin=\"0b01010000\") #1byte sonar 1~4 (0,1)\n",
    "clearance2 = bitstring.BitArray(bin=\"0b01010000\") #1byte sonar 5~8 (0,1)\n",
    "clearance3 = bitstring.BitArray(bin=\"0b01010000\") #1byte sonar 9~12 (0,1) \n",
    "Error_Code = bitstring.BitArray(hex=\"0x00\") #1byte \n",
    "working_time = bitstring.BitArray(hex=\"0x11\") #1byte\n",
    "VID = bitstring.BitArray(hex=\"0x00000000\") #4byte\n",
    "SNO = bitstring.BitArray(hex=\"0x00\") #1byte\n",
    "Reserved1 = bitstring.BitArray(bin=\"0b0000\") #4bit\n",
    "Vibration_Type_Reserve = bitstring.BitArray(bin=\"0b000\") #3bit\n",
    "Vibration_timming = bitstring.BitArray(bin=\"0b0\") #1bit\n",
    "Touch_ID = bitstring.BitArray(hex=\"0x00\") #1byte \n",
    "Challenge  = bitstring.BitArray(hex=\"0x0000ffff0000ffff\") #4byte \n",
    "VAC = bitstring.BitArray(hex=\"0x31\") #1byte \n",
    "Reserved2 = bitstring.BitArray(bin=\"0b000000\") #6bit \n",
    "CRC10 =  bitstring.BitArray(bin=\"0b0011110000\") #10bit \n",
    "\n",
    "#concate all bitarray\n",
    "RPS_message_example = CMD+MODE+ENG_Status_Reserved+Door_Lock_Status_Reserved+Advertise_Req+Longitudinal_direction+Lateral_direction+Progress+clearance1+clearance2+clearance3+Error_Code+working_time+VID+SNO+Reserved1+Vibration_Type_Reserve+Vibration_timming+Touch_ID+Challenge+VAC+Reserved2+CRC10\n",
    "RPS_message_example = RPS_message_example.hex.encode()\n",
    "\n",
    "#4.2. Create MAC =  CMAC(RPS_DATA, tk)\n",
    "#Generate CMAC ofr RPS message to verify its integrity  \n",
    "cmacKey = int(carSharedKey).to_bytes(32, byteorder='big') # make shared key to 32byte array to make CMAC\n",
    "RPS_message_cmac = CMAC.new(cmacKey, ciphermod=AES)\n",
    "RPS_message_cmac.update(RPS_message_example)\n",
    "\n",
    "# 4.3 enc_tk(enc_sk(RPS_data))+CMAC\n",
    "AES_key1 = AES_key_padding(str(carSharedKey)) #1st encryption with Shared password string\n",
    "AES_key2 = AES_key_padding(str(carTemporaryKey)) #2nd encryption with temporary key string\n",
    "\n",
    "Car_cipher1 = AESCipher(key=AES_key1) # generate encryption instance for 1st encryption with Temporary key \n",
    "Car_cipher2 = AESCipher(key=AES_key2) # generate encryption instance for 2nd encryption  with shared key\n",
    "encrypted_vehicle_info1 = Car_cipher1.encrypt(RPS_message_example)  # 1st encryption with Temporary key\n",
    "encrypted_vehicle_info2 = Car_cipher2.encrypt(encrypted_vehicle_info1) # 2nd encryption with shared key\n",
    "\n",
    "# add CMAC to encrypted message\n",
    "vehicle_info_message_with_cmac = encrypted_vehicle_info2+RPS_message_cmac.digest() # 112byte + 16byte  = 128 Byte\n",
    "\n",
    "#4.4 send message to Phone from Car"
   ]
  },
  {
   "cell_type": "code",
   "execution_count": 15,
   "metadata": {},
   "outputs": [
    {
     "name": "stdout",
     "output_type": "stream",
     "text": [
      "CMAC is correct\n",
      "decrypted_vehicle_info : 110000555050500011000000000000000000ffff0000ffff3100f0\n"
     ]
    }
   ],
   "source": [
    "#4.5 Verify MAC , dec_sk(dec_tk(enc_tk(enc_sk(RPS_data))) ,  compare(Create MAC == received MAC)\n",
    "# on phone side \n",
    "RPS_message_from_car = vehicle_info_message_with_cmac[:112]\n",
    "RPS_message_cmac_from_car = vehicle_info_message_with_cmac[112:]\n",
    "\n",
    "AES_key1 = AES_key_padding(str(phoneSharedKey)) #1 encryption with shared key \n",
    "AES_key2 = AES_key_padding(str(phoneTemporaryKey)) #2 encryption with temporary key string\n",
    "\n",
    "Phone_cipher1 = AESCipher(key=AES_key1)  # generate encryption instance for 1st encryption with shared key\n",
    "Phone_cipher2 = AESCipher(key=AES_key2)  # generate encryption instance for 2nd encryption  with Temporary key\n",
    "\n",
    "\n",
    "decrypted_vehicle_info1 = Phone_cipher2.decrypt(RPS_message_from_car) # 1 decryption with Temporary key\n",
    "decrypted_vehicle_info = Phone_cipher1.decrypt(decrypted_vehicle_info1) # 2 decryption with shared key\n",
    "\n",
    "#check if CMAC is correct \n",
    "cmacKey = int(phoneSharedKey).to_bytes(32, byteorder='big') # make shared key to 32byte array to make CMAC\n",
    "phone_cmac_confirm = CMAC.new(cmacKey, ciphermod=AES)\n",
    "phone_cmac_confirm.update(decrypted_vehicle_info)\n",
    "\n",
    "if phone_cmac_confirm.digest() == RPS_message_cmac_from_car:\n",
    "    print(\"CMAC is correct\")\n",
    "else:\n",
    "    print(\"CMAC is not correct\")\n",
    "\n",
    "#4.6 display Vehilce Info.\n",
    "print(f\"decrypted_vehicle_info : {decrypted_vehicle_info.decode()}\")"
   ]
  },
  {
   "cell_type": "code",
   "execution_count": 16,
   "metadata": {},
   "outputs": [],
   "source": [
    "#4.7  generate User command (PHONE_DATA)\n",
    "# on phone side\n",
    "\n",
    "with open(\"./phone_shared_key\", \"rb\") as f:\n",
    "    phoneSharedKey = bytetoint(f.read())\n",
    "\n",
    "# get user input from smart phone app and generate user_command \n",
    "user_command = bitstring.BitArray(os.urandom(32)) #32byte random bitarray\n",
    "\n",
    "# 4.8 Create MAC CMAC(PHONE_DATA, tk)\n",
    "cmacKey = int(phoneSharedKey).to_bytes(32, byteorder='big') # make shared key to 32byte array to make CMAC\n",
    "user_command_cmac = CMAC.new(cmacKey, ciphermod=AES)\n",
    "user_command_cmac.update(user_command.hex.encode())\n",
    "\n",
    "# 4.9 Gen. encrypted data = enc_tk(enc_sk(PHONE_DATA))+CMAC\n",
    "AES_key1 = AES_key_padding(str(phoneSharedKey)) #1 encryption with shared key \n",
    "AES_key2 = AES_key_padding(str(phoneTemporaryKey)) #2 encryption with temporary key string\n",
    "\n",
    "Phone_cipher1 = AESCipher(key=AES_key1)  # generate encryption instance for 1st encryption with shared key\n",
    "Phone_cipher2 = AESCipher(key=AES_key2)  # generate encryption instance for 2nd encryption  with Temporary key\n",
    "\n",
    "encrypted_user_command1 = Phone_cipher1.encrypt(user_command.hex.encode()) # 1 encryption with shared key\n",
    "encrypted_user_command2 = Phone_cipher2.encrypt(encrypted_user_command1) # 2 encryption with Temporary key\n",
    "\n",
    "#add CMAC to encrypted message (128byte + 16 byte = 144 byte)\n",
    "phone_user_command_message  = encrypted_user_command2 + user_command_cmac.digest()\n",
    "\n",
    "#4.10 send message to Car from Phone\n"
   ]
  },
  {
   "cell_type": "code",
   "execution_count": 17,
   "metadata": {},
   "outputs": [
    {
     "name": "stdout",
     "output_type": "stream",
     "text": [
      "CMAC is correct\n"
     ]
    }
   ],
   "source": [
    "# 4.11 dec_tk(dec_sk(enc_tk(enc_sk(PHONE_DATA)))) = PHONE_DATA\n",
    "# on car side \n",
    "with open(\"./car_shared_key\", \"rb\") as f:\n",
    "    carSharedKey = bytetoint(f.read())\n",
    "    \n",
    "recv_user_command_from_phone = phone_user_command_message\n",
    "\n",
    "# seperate encrypted usercommand and CMAC\n",
    "encrypted_user_command = recv_user_command_from_phone[:128]\n",
    "user_command_cmac = recv_user_command_from_phone[128:]\n",
    "\n",
    "AES_key1 = AES_key_padding(str(carSharedKey)) #1st encryption with Shared key string\n",
    "AES_key2 = AES_key_padding(str(carTemporaryKey)) #2nd encryption with temporary key string\n",
    "\n",
    "Car_cipher1 = AESCipher(key=AES_key1) # generate encryption instance for 1st encryption with shared key\n",
    "Car_cipher2 = AESCipher(key=AES_key2)  # generate encryption instance for 2nd encryption  with Temporary key\n",
    "\n",
    "decrypted_user_command1 = Car_cipher2.decrypt(encrypted_user_command) # 1 decryption with Temporary key\n",
    "decrypted_user_command = Car_cipher1.decrypt(decrypted_user_command1) # 2 decryption with Shared key\n",
    "\n",
    "\n",
    "#check CMAC\n",
    "# 4.12. Verify MAC compare(Gen, CMAC(PHONE_DATA, sk) == received MAC)\n",
    "cmacKey = int(carSharedKey).to_bytes(32, byteorder='big') # make shared key to 32byte array to make CMAC\n",
    "user_command_check_cmac = CMAC.new(cmacKey, ciphermod=AES)\n",
    "user_command_check_cmac.update(decrypted_user_command)\n",
    "if user_command_check_cmac.digest() == user_command_cmac:\n",
    "    print(\"CMAC is correct\")\n",
    "else:\n",
    "    print(\"CMAC is not correct\")\n",
    "\n",
    "# 4.13. Execute CMD (on car side)"
   ]
  },
  {
   "cell_type": "code",
   "execution_count": 19,
   "metadata": {},
   "outputs": [
    {
     "name": "stdout",
     "output_type": "stream",
     "text": [
      "original: b'\\xfd5\\xd2\\xeeE\\x10\\x9c?-\\x9fT\\x88\\x96X\\r\\x14'\n",
      "byte value : b'\\xfd5\\xd2\\xeeE\\x10\\x9c?-\\x9fT\\x88\\x96X\\r\\x14'\n",
      "size : 16 bytes  \n"
     ]
    }
   ],
   "source": [
    "countbytes(user_command_check_cmac.digest() )"
   ]
  },
  {
   "cell_type": "code",
   "execution_count": null,
   "metadata": {},
   "outputs": [],
   "source": []
  },
  {
   "cell_type": "code",
   "execution_count": null,
   "metadata": {},
   "outputs": [],
   "source": []
  }
 ],
 "metadata": {
  "kernelspec": {
   "display_name": "Python 3.8.10 64-bit (microsoft store)",
   "language": "python",
   "name": "python3"
  },
  "language_info": {
   "codemirror_mode": {
    "name": "ipython",
    "version": 3
   },
   "file_extension": ".py",
   "mimetype": "text/x-python",
   "name": "python",
   "nbconvert_exporter": "python",
   "pygments_lexer": "ipython3",
   "version": "3.8.10"
  },
  "orig_nbformat": 4,
  "vscode": {
   "interpreter": {
    "hash": "ecaf67c2eed83bbe4201b93bdaacc4b80383b39fafae7a462812c913200862b6"
   }
  }
 },
 "nbformat": 4,
 "nbformat_minor": 2
}
