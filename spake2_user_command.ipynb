{
 "cells": [
  {
   "cell_type": "code",
   "execution_count": 2,
   "metadata": {},
   "outputs": [],
   "source": [
    "#Using python SPAKE2 Library (ed25519 curve)\n",
    "from spake2_local.spake2 import SPAKE2_A\n",
    "from spake2_local.spake2 import SPAKE2_B\n",
    "from hkdf import Hkdf\n",
    "import hmac\n",
    "from hashlib import sha256"
   ]
  },
  {
   "cell_type": "code",
   "execution_count": 3,
   "metadata": {},
   "outputs": [],
   "source": [
    "shared_password = open(\"./key\",\"r\").read()"
   ]
  },
  {
   "cell_type": "code",
   "execution_count": 4,
   "metadata": {},
   "outputs": [],
   "source": [
    "shared_password=shared_password.encode() #byte\n",
    "mobile = SPAKE2_A(shared_password) #1. 공동의 비밀번호를 Scalar로 변환 (__init__)\n",
    "car = SPAKE2_B(shared_password)"
   ]
  },
  {
   "cell_type": "code",
   "execution_count": 5,
   "metadata": {},
   "outputs": [
    {
     "name": "stdout",
     "output_type": "stream",
     "text": [
      "mobile_spake_message : b'm(F\\x0e\\x92\\xffu}(\\x9de\\xa3\\xa61\\xc51!\\xc7JI\\xe1\\xef\\xef\\xe5N\\xac\\xb0|\\x84\\xa7\\xa84\\xae' / size : 33\n",
      "car_spake_message : b'v\\x9c;\\x95?\\x1b,-<Z=\\x88\\xdf\\x0ch\\'5o\\x7fv5\\xac>\\'\\xed\\xa3\\xb4$\\xdc\\x7f\"\\xa9\\xf7' / size : 33\n"
     ]
    }
   ],
   "source": [
    "mobile_spake_message = mobile.start()\n",
    "car_spake_message = car.start()\n",
    "print(f\"mobile_spake_message : {mobile_spake_message} / size : {len(mobile_spake_message)}\")\n",
    "print(f\"car_spake_message : {car_spake_message} / size : {len(car_spake_message)}\")"
   ]
  },
  {
   "cell_type": "code",
   "execution_count": 6,
   "metadata": {},
   "outputs": [],
   "source": [
    "#Generate Shared Key = xyG\n",
    "mobile_shared_value = mobile.finish(car_spake_message)\n",
    "car_shared_value = car.finish(mobile_spake_message)"
   ]
  },
  {
   "cell_type": "code",
   "execution_count": 7,
   "metadata": {},
   "outputs": [],
   "source": [
    "def length_to_bytes(length_in_hex):\n",
    "    length = length_in_hex[2:]\n",
    "    if len(length)<2:\n",
    "        length = \"0\"+length\n",
    "    return length+\"00\"*7 #7byte padding \n",
    "#generate confirmation key \n",
    "\n",
    "mobile_name_length = length_to_bytes(hex(len(mobile.side)))\n",
    "car_name_length = length_to_bytes(hex(len(car.side)))\n",
    "mobile_spake_message_length = length_to_bytes(hex(len(mobile_spake_message)))\n",
    "car_spake_message_length = length_to_bytes(hex(len(car_spake_message)))\n",
    "shared_value_length = length_to_bytes(hex(len(mobile_shared_value)))\n",
    "shared_password_length = length_to_bytes(hex(len(hex(mobile.pw_scalar))))"
   ]
  },
  {
   "cell_type": "code",
   "execution_count": 8,
   "metadata": {},
   "outputs": [],
   "source": [
    "TT = \"\".join([\n",
    "    mobile_name_length, # 모바일 측 이름 (Client) 길이 \n",
    "    mobile.side.hex(), # 모바일 측 이름 (Client)의 hex\n",
    "    car_name_length, # 자동차 측 이름 (server) 길이\n",
    "    car.side.hex(), # 자동차 측 이름 server hex\n",
    "    mobile_spake_message_length, # mobile 에서 보낸 spake 메시지\n",
    "    mobile_spake_message.hex(), \n",
    "    car_spake_message_length, # car spake message \n",
    "    car_spake_message.hex(),\n",
    "    shared_value_length, # spake 를 통해 만들어진 공유 키 길이 (양측 동일 )\n",
    "    mobile_shared_value.hex(), # spake 를 통해 만들어진 공유 키 hex (양측 동일 )\n",
    "    shared_password_length, # 공동 패스워드(register code)로 만든 scalar 의 길이 \n",
    "    hex(mobile.pw_scalar)[2:] # 공동 패스워드(register code)로 만든 scalar 의 hex\n",
    "])"
   ]
  },
  {
   "cell_type": "code",
   "execution_count": 9,
   "metadata": {},
   "outputs": [],
   "source": [
    "hashed_TT = sha256(TT.encode()).hexdigest()\n",
    "Ka = hashed_TT[:int(len(hashed_TT)/2)]\n",
    "tk = sk = Ke = hashed_TT[int(len(hashed_TT)/2):]"
   ]
  },
  {
   "cell_type": "code",
   "execution_count": 10,
   "metadata": {},
   "outputs": [
    {
     "name": "stdout",
     "output_type": "stream",
     "text": [
      "f24b1d4576742d29aa0cf0a3df9b540fefaa41e9e5cc5950e14c6f4b1ba8f3ce\n",
      "f24b1d4576742d29aa0cf0a3df9b540f <-- only used for key confirmation\n",
      "efaa41e9e5cc5950e14c6f4b1ba8f3ce <-- Shared Key \n"
     ]
    }
   ],
   "source": [
    "# both parties can make TT thus, Ka, Ke\n",
    "print(hashed_TT)\n",
    "print(Ka, \"<-- only used for key confirmation\")\n",
    "print(Ke, \"<-- Shared Key \") "
   ]
  },
  {
   "cell_type": "code",
   "execution_count": 11,
   "metadata": {},
   "outputs": [],
   "source": [
    "hk = Hkdf(salt=bytes.fromhex(''),input_key_material=bytes.fromhex(b\"ConfirmationKeys\".hex())) \n",
    "# HKDF 생성 -- salt 값은 공백, input 값은 \"ConfirmationKeys\" 문자열의 hex byte 값 \n",
    "okm = hk.expand(info=bytes.fromhex(Ka)) # Key confirmaiton을 위한 Ka의 hex byte를 HKDF에 인풋으로 입력한 결과 값 \n",
    "Kc = sha256(okm).hexdigest() #결과 값의 sha256 해시\n",
    "\n",
    "KcA = Kc[:int(len(Kc)/2)] \n",
    "ConfirmationKey_Phone = hmac.new(KcA.encode(),TT.encode(),sha256).hexdigest() #해시의 앞 절반은 모바일 --> 자동차 \n",
    "\n",
    "KcB = Kc[int(len(Kc)/2):] \n",
    "ConfirmationKey_Car = hmac.new(KcB.encode(),TT.encode(),sha256).hexdigest() #해시의 뒤 절반은 자동차 --> 모바일 "
   ]
  },
  {
   "cell_type": "code",
   "execution_count": 12,
   "metadata": {},
   "outputs": [
    {
     "name": "stdout",
     "output_type": "stream",
     "text": [
      "Kc : 9a92a5bc3427dee0bdd491cf9cafb4ea9e87c95de4d2adff6e0fe52230df7af7\n",
      "KcA : 9a92a5bc3427dee0bdd491cf9cafb4ea\n",
      "ConfirmationKey_Phone : 2dffbabca02f98d5fc204f483b16863940ca5164dd5724db53e2c6d2ad72f53e\n",
      "KcB : 9e87c95de4d2adff6e0fe52230df7af7\n",
      "ConfirmationKey_Car : 2a673f808471e91af567351000d1a6f21fc9707f5b5a9a07e2d3c17768dcf573\n"
     ]
    }
   ],
   "source": [
    "print(f\"Kc : {Kc}\")\n",
    "print(f\"KcA : {KcA}\")\n",
    "print(f\"ConfirmationKey_Phone : {ConfirmationKey_Phone}\")\n",
    "\n",
    "print(f\"KcB : {KcB}\")\n",
    "print(f\"ConfirmationKey_Car : {ConfirmationKey_Car}\")\n"
   ]
  },
  {
   "cell_type": "code",
   "execution_count": 13,
   "metadata": {},
   "outputs": [
    {
     "data": {
      "text/plain": [
       "True"
      ]
     },
     "execution_count": 13,
     "metadata": {},
     "output_type": "execute_result"
    }
   ],
   "source": [
    "# 모바일 측에서는 자동차에서 보낸 ConfirmationKey_B를 받아서 검증\n",
    "mobile.key_confirmation(TT,ConfirmationKey_Car)"
   ]
  },
  {
   "cell_type": "code",
   "execution_count": 14,
   "metadata": {},
   "outputs": [
    {
     "data": {
      "text/plain": [
       "True"
      ]
     },
     "execution_count": 14,
     "metadata": {},
     "output_type": "execute_result"
    }
   ],
   "source": [
    "# 자동차 측에서는 모바일에서 보낸 ConfirmationKey_B를 받아서 검증\n",
    "car.key_confirmation(TT,ConfirmationKey_Phone)"
   ]
  },
  {
   "cell_type": "markdown",
   "metadata": {},
   "source": [
    "# Challenge process"
   ]
  },
  {
   "cell_type": "code",
   "execution_count": 15,
   "metadata": {},
   "outputs": [],
   "source": [
    "from Crypto import Random\n",
    "from Crypto.Cipher import AES\n",
    "\n",
    "BLOCK_SIZE = 16\n",
    "\n",
    "def pad(s):\n",
    "    s = s + (BLOCK_SIZE - len(s) % BLOCK_SIZE) * chr(BLOCK_SIZE - len(s) % BLOCK_SIZE).encode()\n",
    "    return s\n",
    "\n",
    "def unpad(encrypted_string):\n",
    "    return encrypted_string[0:-(encrypted_string[-1])]\n",
    "\n",
    "\n",
    "class AESCipher(object):\n",
    "    def __init__(self, key):\n",
    "        self.key = key.encode()\n",
    "\n",
    "    def encrypt(self, raw):\n",
    "        raw = pad(raw)\n",
    "        iv = Random.new().read(AES.block_size)\n",
    "        cipher = AES.new(self.key, AES.MODE_CBC, iv)\n",
    "        # print(f\"cipher len : {len(cipher.encrypt(raw))}\")\n",
    "        return iv + cipher.encrypt(raw)\n",
    "    \n",
    "    def decrypt(self, enc):\n",
    "        iv = enc[:BLOCK_SIZE]\n",
    "        cipher = AES.new(self.key, AES.MODE_CBC, iv)\n",
    "        return unpad(cipher.decrypt(enc[BLOCK_SIZE:]))\n",
    "\n",
    "def AES_key_padding(z):\n",
    "    if len(z) > 32 : \n",
    "        z = z[:32]\n",
    "    else:\n",
    "        for i in range(32-len(z)):\n",
    "            z = z+\"0\"\n",
    "    return z "
   ]
  },
  {
   "cell_type": "code",
   "execution_count": 16,
   "metadata": {},
   "outputs": [],
   "source": [
    "#Generate Nonce \n",
    "import binascii\n",
    "import os \n",
    "import struct \n",
    "import datetime\n",
    "\n",
    "nonce_c = int(binascii.hexlify(os.urandom(4)),16).to_bytes(4,\"big\")# 4byte random int\n",
    "ts = struct.pack(\">i\",int(datetime.datetime.timestamp(datetime.datetime.now())))\n",
    "plain_challenge_from_car = nonce_c+ts"
   ]
  },
  {
   "cell_type": "markdown",
   "metadata": {},
   "source": [
    "### Car --> Phone Challenge"
   ]
  },
  {
   "cell_type": "code",
   "execution_count": 17,
   "metadata": {},
   "outputs": [
    {
     "name": "stdout",
     "output_type": "stream",
     "text": [
      "plain    : b'\\xfe4,\\xdab\\xb1kz'\n",
      "encrypted1: b'\\x10\\x12Y\\xb0<$g\\x11\\xff^\\xfa\\x909w\\x80\\xa0\\xf6 \\xd7:u3\\r\\xf1\\xed~gf\\xc7\\x0e7\\xc4'\n",
      "encrypted2: b'\\x07J\\x0b$\\x9b!\\xa3-\\xe7\\x80\\x834\\xc7\\x87A\\xa7\\xe0\\xe2\\x8a\\xfe\\x0fa\\x15\\xed\\x0e\\x1c\\x8bw\\xa2\\xd8n\\x9f\\x1a\\xb5\\xc0\\xe7\\x19\\xc1C\\xaf\\x05\\x16\\xbb\\xb1\\xd0\\xa9\\xb8Q\\xfftq\\x1b\\x81\\xacp@\\xc2v\\x105\\x9eV\\\\\\x7f'\n"
     ]
    }
   ],
   "source": [
    "#AES key는 16의 배수이므로 키의 길이를 32바이트로 만들기 위한 패딩작업 \n",
    "AES_key1 = AES_key_padding(shared_password.decode())\n",
    "AES_key2 = AES_key_padding(Ke)\n",
    "\n",
    "Car_cipher1 = AESCipher(key=AES_key1) # 2중 암호화를 위해 Shared password를 Key로 암호화 인스턴스1 생성 \n",
    "Car_cipher2 = AESCipher(key=AES_key2)  # 2중 암호화를 위해 Ke를 Key로 암호화 인스턴스2 생성 \n",
    "\n",
    "# todo 혼다측 요구사항 (2중암호화)을 위해 register code로 한번 더 암호화 해야됨 \n",
    "# shared_password로 1차 암호화 한 후 \n",
    "# spake를 통해 만들어진 Ke로 2차 암호화 \n",
    "\n",
    "print(\"plain    :\",plain_challenge_from_car)\n",
    "\n",
    "encrypted_challenge_from_car1 = Car_cipher1.encrypt(plain_challenge_from_car)\n",
    "print(\"encrypted1:\",encrypted_challenge_from_car1)\n",
    "\n",
    "encrypted_challenge_from_car2 = Car_cipher2.encrypt(encrypted_challenge_from_car1)\n",
    "print(\"encrypted2:\",encrypted_challenge_from_car2)\n"
   ]
  },
  {
   "cell_type": "code",
   "execution_count": 18,
   "metadata": {},
   "outputs": [
    {
     "name": "stdout",
     "output_type": "stream",
     "text": [
      "32\n",
      "64\n"
     ]
    }
   ],
   "source": [
    "print(len(encrypted_challenge_from_car1))\n",
    "print(len(encrypted_challenge_from_car2))"
   ]
  },
  {
   "cell_type": "markdown",
   "metadata": {},
   "source": [
    "### Phone --> Car Challenge"
   ]
  },
  {
   "cell_type": "code",
   "execution_count": 19,
   "metadata": {},
   "outputs": [
    {
     "name": "stdout",
     "output_type": "stream",
     "text": [
      "decrypted: b'\\xfe4,\\xdab\\xb1kz'\n"
     ]
    }
   ],
   "source": [
    "#AES key는 16의 배수이므로 키의 길이를 32바이트로 만들기 위한 패딩작업 \n",
    "AES_key1 = AES_key_padding(shared_password.decode())\n",
    "AES_key2 = AES_key_padding(Ke)\n",
    "\n",
    "Phone_cipher1 = AESCipher(key=AES_key1)  # 2중 암호화를 위해 Shared password를 Key로 암호화 인스턴스1 생성 \n",
    "Phone_cipher2 = AESCipher(key=AES_key2)  #  2중 암호화를 위해 Ke를 Key로 암호화 인스턴스2 생성 \n",
    "\n",
    "# 2번 복호화 \n",
    "decrypted_challenge_from_car1 = Phone_cipher2.decrypt(encrypted_challenge_from_car2)\n",
    "decrypted_challenge_from_car = Phone_cipher1.decrypt(decrypted_challenge_from_car1)\n",
    "\n",
    "print(\"decrypted:\",decrypted_challenge_from_car)"
   ]
  },
  {
   "cell_type": "code",
   "execution_count": 20,
   "metadata": {},
   "outputs": [],
   "source": [
    "username = \"AUTOCRYPT\"\n",
    "padded_username = int(username.encode().hex(),16).to_bytes(64,\"big\")\n",
    "plain_response_from_phone = decrypted_challenge_from_car+padded_username"
   ]
  },
  {
   "cell_type": "code",
   "execution_count": 21,
   "metadata": {},
   "outputs": [],
   "source": [
    "# 2중암호화 \n",
    "encrypted_response_from_phone1 = Phone_cipher1.encrypt(plain_response_from_phone)\n",
    "encrypted_response_from_phone2 = Phone_cipher2.encrypt(encrypted_response_from_phone1)"
   ]
  },
  {
   "cell_type": "markdown",
   "metadata": {},
   "source": [
    "### Car respose check (challenge solve check)"
   ]
  },
  {
   "cell_type": "code",
   "execution_count": 22,
   "metadata": {},
   "outputs": [],
   "source": [
    "#AES key는 16의 배수이므로 키의 길이를 32바이트로 만들기 위한 패딩작업 \n",
    "AES_key1 = AES_key_padding(shared_password.decode())\n",
    "AES_key2 = AES_key_padding(Ke)\n",
    "\n",
    "Car_cipher1 = AESCipher(key=AES_key1) # 2중 암호화를 위해 Shared password를 Key로 암호화 인스턴스1 생성 \n",
    "Car_cipher2 = AESCipher(key=AES_key2)  # 2중 암호화를 위해 Ke를 Key로 암호화 인스턴스2 생성 \n",
    "\n",
    "#2중 복호화 \n",
    "decrypted_response_from_phone1 = Car_cipher2.decrypt(encrypted_response_from_phone2)\n",
    "decrypted_response_from_phone = Car_cipher1.decrypt(decrypted_response_from_phone1)"
   ]
  },
  {
   "cell_type": "code",
   "execution_count": 23,
   "metadata": {},
   "outputs": [],
   "source": [
    "responsed_nonce_c = decrypted_response_from_phone[0:4]\n",
    "responsed_timestamp_c = decrypted_response_from_phone[4:8]\n",
    "responsed_username = decrypted_response_from_phone[8:]"
   ]
  },
  {
   "cell_type": "code",
   "execution_count": 24,
   "metadata": {},
   "outputs": [
    {
     "data": {
      "text/plain": [
       "True"
      ]
     },
     "execution_count": 24,
     "metadata": {},
     "output_type": "execute_result"
    }
   ],
   "source": [
    "responsed_nonce_c == nonce_c"
   ]
  },
  {
   "cell_type": "code",
   "execution_count": 25,
   "metadata": {},
   "outputs": [],
   "source": [
    "nowtime = int(datetime.datetime.timestamp(datetime.datetime.now()))\n",
    "challenge_time = int(responsed_timestamp_c.hex(),16)\n",
    "elapsed_minute = (nowtime-challenge_time)/60 "
   ]
  },
  {
   "cell_type": "code",
   "execution_count": 26,
   "metadata": {},
   "outputs": [
    {
     "data": {
      "text/plain": [
       "True"
      ]
     },
     "execution_count": 26,
     "metadata": {},
     "output_type": "execute_result"
    }
   ],
   "source": [
    "# 2분 이내에 challenge 해결해야할 경우 \n",
    "elapsed_minute < 2 "
   ]
  },
  {
   "cell_type": "markdown",
   "metadata": {},
   "source": [
    "### Vehicle Info --> Phone "
   ]
  },
  {
   "cell_type": "code",
   "execution_count": 27,
   "metadata": {},
   "outputs": [
    {
     "data": {
      "text/plain": [
       "<Crypto.Hash.CMAC.CMAC at 0x1df8facd240>"
      ]
     },
     "execution_count": 27,
     "metadata": {},
     "output_type": "execute_result"
    }
   ],
   "source": [
    "# 3.1. Gen. vehicle info RPS_DATA(CMD, MODE, Clearance, ETC) \n",
    "# on Car side \n",
    "\n",
    "import bitstring\n",
    "#通信仕様_RPSSmartphone.xlsx 참고\n",
    "CMD = bitstring.BitArray(hex=\"0x11\") #1byte \n",
    "MODE = bitstring.BitArray(hex=\"0x00\") #1byte \n",
    "ENG_Status_Reserved = bitstring.BitArray(bin=\"0b0\")  #1bit00\n",
    "Door_Lock_Status_Reserved = bitstring.BitArray(bin=\"0b0\")  #1bit00\n",
    "Advertise_Req = bitstring.BitArray(bin=\"0b00\")  #1bit00\n",
    "Longitudinal_direction = bitstring.BitArray(bin=\"0b00\")  #1bit00\n",
    "Lateral_direction = bitstring.BitArray(bin=\"0b00\")  #1bit00\n",
    "Progress = bitstring.BitArray(hex=\"0x55\") #1byte 0x00~0x64 (100)\n",
    "clearance1 =bitstring.BitArray(bin=\"0b01010000\") #1byte sonar 1~4 (0,1)\n",
    "clearance2 = bitstring.BitArray(bin=\"0b01010000\") #1byte sonar 5~8 (0,1)\n",
    "clearance3 = bitstring.BitArray(bin=\"0b01010000\") #1byte sonar 9~12 (0,1) \n",
    "Error_Code = bitstring.BitArray(hex=\"0x00\") #1byte \n",
    "working_time = bitstring.BitArray(hex=\"0x11\") #1byte\n",
    "VID = bitstring.BitArray(hex=\"0x00000000\") #4byte\n",
    "SNO = bitstring.BitArray(hex=\"0x00\") #1byte\n",
    "Reserved1 = bitstring.BitArray(bin=\"0b0000\") #4bit\n",
    "Vibration_Type_Reserve = bitstring.BitArray(bin=\"0b000\") #3bit\n",
    "Vibration_timming = bitstring.BitArray(bin=\"0b0\") #1bit\n",
    "Touch_ID = bitstring.BitArray(hex=\"0x00\") #1byte \n",
    "\n",
    "##### challenge는 현재 4byte --> 8 Byte \n",
    "Challenge  = bitstring.BitArray(hex=\"0x0000ffff0000ffff\") #4byte \n",
    "\n",
    "VAC = bitstring.BitArray(hex=\"0x31\") #1byte \n",
    "Reserved2 = bitstring.BitArray(bin=\"0b000000\") #6bit \n",
    "CRC10 =  bitstring.BitArray(bin=\"0b0011110000\") #10bit \n",
    "\n",
    "#모든 bit를 나열해서 붙임 \n",
    "RPS_message_example = CMD+MODE+ENG_Status_Reserved+Door_Lock_Status_Reserved+Advertise_Req+Longitudinal_direction+Lateral_direction+Progress+clearance1+clearance2+clearance3+Error_Code+working_time+VID+SNO+Reserved1+Vibration_Type_Reserve+Vibration_timming+Touch_ID+Challenge+VAC+Reserved2+CRC10\n",
    "from Crypto.Hash import CMAC\n",
    "from Crypto.Cipher import AES\n",
    "\n",
    "#RPS 메시지의 CMAC 생성해서 데이터 무결성 검증 \n",
    "RPS_message_cmac = CMAC.new(tk.encode(), ciphermod=AES)\n",
    "RPS_message_cmac.update(RPS_message_example.hex.encode())\n",
    "#send this message to Phone from Car\n"
   ]
  },
  {
   "cell_type": "code",
   "execution_count": 28,
   "metadata": {},
   "outputs": [],
   "source": [
    "# Vehicle info 2중 암호화\n",
    "#AES key는 16의 배수이므로 키의 길이를 32바이트로 만들기 위한 패딩작업 \n",
    "AES_key1 = AES_key_padding(shared_password.decode())\n",
    "AES_key2 = AES_key_padding(Ke)\n",
    "\n",
    "Car_cipher1 = AESCipher(key=AES_key1) # 2중 암호화를 위해 Shared password를 Key로 암호화 인스턴스1 생성 \n",
    "Car_cipher2 = AESCipher(key=AES_key2)  # 2중 암호화를 위해 Ke를 Key로 암호화 인스턴스2 생성 \n",
    "\n",
    "encrypted_vehicle_info1 = Car_cipher1.encrypt(RPS_message_example.hex.encode())\n",
    "encrypted_vehicle_info2 = Car_cipher2.encrypt(encrypted_vehicle_info1)\n"
   ]
  },
  {
   "cell_type": "code",
   "execution_count": 29,
   "metadata": {},
   "outputs": [],
   "source": [
    "vehicle_info_message_with_cmac = encrypted_vehicle_info2+RPS_message_cmac.digest() # 112byte + 16byte  = 128 Byte"
   ]
  },
  {
   "cell_type": "markdown",
   "metadata": {},
   "source": [
    "### Check vehicle info and show info on Phone"
   ]
  },
  {
   "cell_type": "code",
   "execution_count": 30,
   "metadata": {},
   "outputs": [
    {
     "data": {
      "text/plain": [
       "<Crypto.Hash.CMAC.CMAC at 0x1df8f749960>"
      ]
     },
     "execution_count": 30,
     "metadata": {},
     "output_type": "execute_result"
    }
   ],
   "source": [
    "# on phone side \n",
    "# 3.4 Verify MAC\n",
    "RPS_message_from_car = vehicle_info_message_with_cmac[:112]\n",
    "RPS_message_cmac_from_car = vehicle_info_message_with_cmac[112:]\n",
    "\n",
    "#2중 복호화\n",
    "AES_key1 = AES_key_padding(shared_password.decode())\n",
    "AES_key2 = AES_key_padding(Ke)\n",
    "\n",
    "Phone_cipher1 = AESCipher(key=AES_key1) # 2중 암호화를 위해 Shared password를 Key로 암호화 인스턴스1 생성 \n",
    "Phone_cipher2 = AESCipher(key=AES_key2)  # 2중 암호화를 위해 Ke를 Key로 암호화 인스턴스2 생성 \n",
    "\n",
    "decrypted_vehicle_info1 = Phone_cipher2.decrypt(RPS_message_from_car)\n",
    "decrypted_vehicle_info = Phone_cipher1.decrypt(decrypted_vehicle_info1)\n",
    "\n",
    "#check if CMAC is correct \n",
    "phone_cmac_confirm = CMAC.new(tk.encode(), ciphermod=AES)\n",
    "phone_cmac_confirm.update(decrypted_vehicle_info)"
   ]
  },
  {
   "cell_type": "code",
   "execution_count": 31,
   "metadata": {},
   "outputs": [
    {
     "data": {
      "text/plain": [
       "True"
      ]
     },
     "execution_count": 31,
     "metadata": {},
     "output_type": "execute_result"
    }
   ],
   "source": [
    "phone_cmac_confirm.digest() == RPS_message_cmac_from_car"
   ]
  },
  {
   "cell_type": "markdown",
   "metadata": {},
   "source": [
    "### generate User command"
   ]
  },
  {
   "cell_type": "code",
   "execution_count": 32,
   "metadata": {},
   "outputs": [],
   "source": [
    "# on phone side\n",
    "# get user input from smart phone app and generate user_command \n",
    "user_command = bitstring.BitArray(os.urandom(32)) #32byte 임의의 값 "
   ]
  },
  {
   "cell_type": "code",
   "execution_count": 33,
   "metadata": {},
   "outputs": [],
   "source": [
    "#2중 암호화\n",
    "AES_key1 = AES_key_padding(shared_password.decode())\n",
    "AES_key2 = AES_key_padding(Ke)\n",
    "\n",
    "Phone_cipher1 = AESCipher(key=AES_key1) # 2중 암호화를 위해 Shared password를 Key로 암호화 인스턴스1 생성 \n",
    "Phone_cipher2 = AESCipher(key=AES_key2)  # 2중 암호화를 위해 Ke를 Key로 암호화 인스턴스2 생성 \n",
    "\n",
    "encrypted_user_command1 = Phone_cipher1.encrypt(user_command.hex.encode())\n",
    "encrypted_user_command2 = Phone_cipher2.encrypt(encrypted_user_command1)"
   ]
  },
  {
   "cell_type": "code",
   "execution_count": 34,
   "metadata": {},
   "outputs": [
    {
     "data": {
      "text/plain": [
       "<Crypto.Hash.CMAC.CMAC at 0x1df8fa9ee00>"
      ]
     },
     "execution_count": 34,
     "metadata": {},
     "output_type": "execute_result"
    }
   ],
   "source": [
    "# 3.3. Create MAC CMAC(PHONE_DATA, tk)\n",
    "#user command 의 CMAC 생성해서 데이터 무결성 검증 \n",
    "user_command_cmac = CMAC.new(tk.encode(), ciphermod=AES)\n",
    "user_command_cmac.update(user_command.hex.encode())"
   ]
  },
  {
   "cell_type": "code",
   "execution_count": 35,
   "metadata": {},
   "outputs": [],
   "source": [
    "#add CMAC to encrypted message (128byte + 16 byte = 144 byte)\n",
    "phone_user_command_message  = encrypted_user_command2 + user_command_cmac.digest()"
   ]
  },
  {
   "cell_type": "code",
   "execution_count": 36,
   "metadata": {},
   "outputs": [
    {
     "data": {
      "text/plain": [
       "144"
      ]
     },
     "execution_count": 36,
     "metadata": {},
     "output_type": "execute_result"
    }
   ],
   "source": [
    "len(phone_user_command_message) "
   ]
  },
  {
   "cell_type": "markdown",
   "metadata": {},
   "source": [
    "### check User command and execute CMD"
   ]
  },
  {
   "cell_type": "code",
   "execution_count": 37,
   "metadata": {},
   "outputs": [
    {
     "data": {
      "text/plain": [
       "<Crypto.Hash.CMAC.CMAC at 0x1df8fa9fc10>"
      ]
     },
     "execution_count": 37,
     "metadata": {},
     "output_type": "execute_result"
    }
   ],
   "source": [
    "# on car side \n",
    "# 3.6. dec_tk(encrypted data) PHONE_DATA\n",
    "recv_user_command_from_phone = phone_user_command_message\n",
    "\n",
    "#seperate encrypted usercommand and CMAC\n",
    "encrypted_user_command = recv_user_command_from_phone[:128]\n",
    "user_command_cmac = recv_user_command_from_phone[128:]\n",
    "\n",
    "\n",
    "#2중 복호화\n",
    "AES_key1 = AES_key_padding(shared_password.decode())\n",
    "AES_key2 = AES_key_padding(Ke)\n",
    "\n",
    "Car_cipher1 = AESCipher(key=AES_key1) # 2중 암호화를 위해 Shared password를 Key로 암호화 인스턴스1 생성 \n",
    "Car_cipher2 = AESCipher(key=AES_key2)  # 2중 암호화를 위해 Ke를 Key로 암호화 인스턴스2 생성 \n",
    "\n",
    "decrypted_user_command1 = Car_cipher2.decrypt(encrypted_user_command)\n",
    "decrypted_user_command = Car_cipher1.decrypt(decrypted_user_command1)\n",
    "\n",
    "\n",
    "#check CMAC\n",
    "# 3.3. Create MAC CMAC(PHONE_DATA, tk)\n",
    "#user command 의 CMAC 생성해서 데이터 무결성 검증 \n",
    "user_command_check_cmac = CMAC.new(tk.encode(), ciphermod=AES)\n",
    "user_command_check_cmac.update(decrypted_user_command)"
   ]
  },
  {
   "cell_type": "code",
   "execution_count": 38,
   "metadata": {},
   "outputs": [
    {
     "data": {
      "text/plain": [
       "b'\\x04;bR\\x82\\x9au\\x87\\xbfCF\\x81\\x8c\\x03xh'"
      ]
     },
     "execution_count": 38,
     "metadata": {},
     "output_type": "execute_result"
    }
   ],
   "source": [
    "user_command_check_cmac.digest()"
   ]
  },
  {
   "cell_type": "code",
   "execution_count": 39,
   "metadata": {},
   "outputs": [
    {
     "data": {
      "text/plain": [
       "b'\\x04;bR\\x82\\x9au\\x87\\xbfCF\\x81\\x8c\\x03xh'"
      ]
     },
     "execution_count": 39,
     "metadata": {},
     "output_type": "execute_result"
    }
   ],
   "source": [
    "user_command_check_cmac.digest()"
   ]
  },
  {
   "cell_type": "code",
   "execution_count": 40,
   "metadata": {},
   "outputs": [
    {
     "data": {
      "text/plain": [
       "True"
      ]
     },
     "execution_count": 40,
     "metadata": {},
     "output_type": "execute_result"
    }
   ],
   "source": [
    "user_command_check_cmac.digest() == user_command_cmac"
   ]
  },
  {
   "cell_type": "markdown",
   "metadata": {},
   "source": [
    "# on car side \n",
    "### execute CMD\n"
   ]
  },
  {
   "cell_type": "code",
   "execution_count": null,
   "metadata": {},
   "outputs": [],
   "source": []
  }
 ],
 "metadata": {
  "kernelspec": {
   "display_name": "Python 3.8.10 64-bit (microsoft store)",
   "language": "python",
   "name": "python3"
  },
  "language_info": {
   "codemirror_mode": {
    "name": "ipython",
    "version": 3
   },
   "file_extension": ".py",
   "mimetype": "text/x-python",
   "name": "python",
   "nbconvert_exporter": "python",
   "pygments_lexer": "ipython3",
   "version": "3.8.10"
  },
  "orig_nbformat": 4,
  "vscode": {
   "interpreter": {
    "hash": "ecaf67c2eed83bbe4201b93bdaacc4b80383b39fafae7a462812c913200862b6"
   }
  }
 },
 "nbformat": 4,
 "nbformat_minor": 2
}
