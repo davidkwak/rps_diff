{
 "cells": [
  {
   "cell_type": "code",
   "execution_count": 14,
   "metadata": {},
   "outputs": [],
   "source": [
    "#Using python SPAKE2 Library (ed25519 curve)\n",
    "from spake2_local.spake2 import SPAKE2_A\n",
    "from spake2_local.spake2 import SPAKE2_B\n",
    "from hkdf import Hkdf\n",
    "import hmac\n",
    "from hashlib import sha256"
   ]
  },
  {
   "cell_type": "markdown",
   "metadata": {},
   "source": [
    "# generate SPAKE instance , PAKE message and shared key"
   ]
  },
  {
   "cell_type": "code",
   "execution_count": 15,
   "metadata": {},
   "outputs": [
    {
     "name": "stdout",
     "output_type": "stream",
     "text": [
      "2068500508171551459763435228377381679810713647176111590801746788672287807293\n",
      "2068500508171551459763435228377381679810713647176111590801746788672287807293\n"
     ]
    }
   ],
   "source": [
    "# input register code\n",
    "shared_password=b\"123456\" #byte\n",
    "\n",
    "# use regiser code to generate SPAKE instance \n",
    "mobile = SPAKE2_A(shared_password) #1. 공동의 비밀번호를 Scalar로 변환 (__init__)\n",
    "car = SPAKE2_B(shared_password)\n",
    "print(mobile.pw_scalar)\n",
    "print(car.pw_scalar)\n"
   ]
  },
  {
   "cell_type": "code",
   "execution_count": 16,
   "metadata": {},
   "outputs": [
    {
     "name": "stdout",
     "output_type": "stream",
     "text": [
      "mobile_pake_message : b'm\\xa4\\xa6/#N\\xaf\\x86\\x14\\xd8\\xd9[\\xd4\\x9b\\xc5?\\x9d\\xc4o\\x901.Tu\\xafg\\xaf\\xa7ju8s\\xa0' / size : 33\n",
      "car_pake_message : b'v/u\\x08<^#\\x82\\x8cq\\xf6\\xbe\\xc8\\xc9,\\xc0=\\xc3!\\xaf\\xbe\\x0c\\xab\\x8e\\xa1%\\xf3\\xf2\\xeb\\xe6\\xaa\\xac\\xf4' / size : 33\n"
     ]
    }
   ],
   "source": [
    "#Generate PAKE message \n",
    "mobile_spake_message = mobile.start()\n",
    "car_spake_message = car.start()\n",
    "print(f\"mobile_pake_message : {mobile_spake_message} / size : {len(mobile_spake_message)}\")\n",
    "print(f\"car_pake_message : {car_spake_message} / size : {len(car_spake_message)}\")"
   ]
  },
  {
   "cell_type": "code",
   "execution_count": 17,
   "metadata": {},
   "outputs": [
    {
     "name": "stdout",
     "output_type": "stream",
     "text": [
      "b'&\\xaefL%\\x90\\xb2\\x82\\xc4\\x80\\x17}\\x8c\\x921w\\x9c\\x8ab\\x95\\xc5\\xdf\\x03\\xb1\\x85\\x15J\\x92\\xe9\\xcaz\\xa6'\n",
      "b'&\\xaefL%\\x90\\xb2\\x82\\xc4\\x80\\x17}\\x8c\\x921w\\x9c\\x8ab\\x95\\xc5\\xdf\\x03\\xb1\\x85\\x15J\\x92\\xe9\\xcaz\\xa6'\n"
     ]
    }
   ],
   "source": [
    "#Generate Shared Key = xyG\n",
    "mobile_shared_value = mobile.finish(car_spake_message)\n",
    "car_shared_value = car.finish(mobile_spake_message)\n",
    "\n",
    "print(mobile_shared_value)\n",
    "print(car_shared_value)"
   ]
  },
  {
   "cell_type": "markdown",
   "metadata": {},
   "source": [
    "# generate shared key and confirmation key"
   ]
  },
  {
   "cell_type": "code",
   "execution_count": 23,
   "metadata": {},
   "outputs": [
    {
     "name": "stdout",
     "output_type": "stream",
     "text": [
      "2deb58c863e58e34ec9a4c2f08bf2c53e963592b188c064780d3be6fd4d57624\n",
      "2deb58c863e58e34ec9a4c2f08bf2c53 <-- only used for key confirmation\n",
      "e963592b188c064780d3be6fd4d57624 <-- Shared Key \n"
     ]
    }
   ],
   "source": [
    "def length_to_bytes(length_in_hex):\n",
    "    length = length_in_hex[2:]\n",
    "    if len(length)<2:\n",
    "        length = \"0\"+length\n",
    "    return length+\"00\"*7 #7byte padding \n",
    "#generate confirmation key \n",
    "\n",
    "mobile_name_length = length_to_bytes(hex(len(mobile.side)))\n",
    "car_name_length = length_to_bytes(hex(len(car.side)))\n",
    "mobile_spake_message_length = length_to_bytes(hex(len(mobile_spake_message)))\n",
    "car_spake_message_length = length_to_bytes(hex(len(car_spake_message)))\n",
    "shared_value_length = length_to_bytes(hex(len(mobile_shared_value)))\n",
    "shared_password_length = length_to_bytes(hex(len(hex(mobile.pw_scalar))))\n",
    "\n",
    "TT = \"\".join([\n",
    "    mobile_name_length, # 모바일 측 이름 (Client) 길이 \n",
    "    mobile.side.hex(), # 모바일 측 이름 (Client)의 hex\n",
    "    car_name_length, # 자동차 측 이름 (server) 길이\n",
    "    car.side.hex(), # 자동차 측 이름 server hex\n",
    "    mobile_spake_message_length, # mobile 에서 보낸 spake 메시지\n",
    "    mobile_spake_message.hex(), \n",
    "    car_spake_message_length, # car spake message \n",
    "    car_spake_message.hex(),\n",
    "    shared_value_length, # spake 를 통해 만들어진 공유 키 길이 (양측 동일 )\n",
    "    mobile_shared_value.hex(), # spake 를 통해 만들어진 공유 키 hex (양측 동일 )\n",
    "    shared_password_length, # 공동 패스워드(register code)로 만든 scalar 의 길이 \n",
    "    hex(mobile.pw_scalar)[2:] # 공동 패스워드(register code)로 만든 scalar 의 hex\n",
    "])\n",
    "\n",
    "hashed_TT = sha256(TT.encode()).hexdigest()\n",
    "Ka = hashed_TT[:int(len(hashed_TT)/2)]\n",
    "Ke = hashed_TT[int(len(hashed_TT)/2):]\n",
    "# both parties can make TT thus, Ka, Ke\n",
    "print(hashed_TT)\n",
    "print(Ka, \"<-- only used for key confirmation\")\n",
    "print(Ke, \"<-- Shared Key \") "
   ]
  },
  {
   "cell_type": "code",
   "execution_count": 25,
   "metadata": {},
   "outputs": [],
   "source": [
    "# Generate confrimation key \n",
    "\n",
    "hk = Hkdf(salt=bytes.fromhex(''),input_key_material=bytes.fromhex(b\"ConfirmationKeys\".hex())) \n",
    "# HKDF 생성 -- salt 값은 공백, input 값은 \"ConfirmationKeys\" 문자열의 hex byte 값 \n",
    "okm = hk.expand(info=bytes.fromhex(Ka)) # Key confirmaiton을 위한 Ka의 hex byte를 HKDF에 인풋으로 입력한 결과 값 \n",
    "Kc = sha256(okm).hexdigest() #결과 값의 sha256 해시\n",
    "\n",
    "KcA = Kc[:int(len(Kc)/2)] \n",
    "ConfirmationKey_A = hmac.new(KcA.encode(),TT.encode(),sha256).hexdigest() #해시의 앞 절반은 모바일 --> 자동차 \n",
    "\n",
    "KcB = Kc[int(len(Kc)/2):] \n",
    "ConfirmationKey_B = hmac.new(KcB.encode(),TT.encode(),sha256).hexdigest() #해시의 뒤 절반은 자동차 --> 모바일 "
   ]
  },
  {
   "cell_type": "code",
   "execution_count": 26,
   "metadata": {},
   "outputs": [
    {
     "name": "stdout",
     "output_type": "stream",
     "text": [
      "Kc : e47b88c867e2034cb1d93599b6c16fba161fca20971c4e819c94667c295276d0\n",
      "KcA : e47b88c867e2034cb1d93599b6c16fba\n",
      "ConfirmationKey_A : 3f9b9b8de2e4d6cfd55f02814492cd0606da97d033a04e439f600889603711e2\n",
      "KcB : 161fca20971c4e819c94667c295276d0\n",
      "ConfirmationKey_B : 6f39e92359c3c61b4501e1d5b1306dd1ffbdaf1920e2515b53a048bb9a3c6f5b\n"
     ]
    }
   ],
   "source": [
    "print(f\"Kc : {Kc}\")\n",
    "print(f\"KcA : {KcA}\")\n",
    "print(f\"ConfirmationKey_A : {ConfirmationKey_A}\")\n",
    "\n",
    "print(f\"KcB : {KcB}\")\n",
    "print(f\"ConfirmationKey_B : {ConfirmationKey_B}\")\n"
   ]
  },
  {
   "cell_type": "code",
   "execution_count": 27,
   "metadata": {},
   "outputs": [
    {
     "data": {
      "text/plain": [
       "True"
      ]
     },
     "execution_count": 27,
     "metadata": {},
     "output_type": "execute_result"
    }
   ],
   "source": [
    "# 모바일 측에서는 자동차에서 보낸 ConfirmationKey_B를 받아서 검증\n",
    "mobile.key_confirmation(TT,ConfirmationKey_B)"
   ]
  },
  {
   "cell_type": "code",
   "execution_count": 28,
   "metadata": {},
   "outputs": [
    {
     "data": {
      "text/plain": [
       "True"
      ]
     },
     "execution_count": 28,
     "metadata": {},
     "output_type": "execute_result"
    }
   ],
   "source": [
    "# 자동차 측에서는 모바일에서 보낸 ConfirmationKey_B를 받아서 검증\n",
    "car.key_confirmation(TT,ConfirmationKey_A)"
   ]
  },
  {
   "cell_type": "markdown",
   "metadata": {},
   "source": [
    "# Challenge process"
   ]
  },
  {
   "cell_type": "code",
   "execution_count": 29,
   "metadata": {},
   "outputs": [],
   "source": [
    "from Crypto import Random\n",
    "from Crypto.Cipher import AES\n",
    "\n",
    "BLOCK_SIZE = 16\n",
    "\n",
    "def pad(s):\n",
    "    s = s + (BLOCK_SIZE - len(s) % BLOCK_SIZE) * chr(BLOCK_SIZE - len(s) % BLOCK_SIZE).encode()\n",
    "    return s\n",
    "\n",
    "def unpad(encrypted_string):\n",
    "    return encrypted_string[0:-(encrypted_string[-1])]\n",
    "\n",
    "\n",
    "class AESCipher(object):\n",
    "    def __init__(self, key):\n",
    "        self.key = key.encode()\n",
    "\n",
    "    def encrypt(self, raw):\n",
    "        raw = pad(raw)\n",
    "        iv = Random.new().read(AES.block_size)\n",
    "        cipher = AES.new(self.key, AES.MODE_CBC, iv)\n",
    "        # print(f\"cipher len : {len(cipher.encrypt(raw))}\")\n",
    "        return iv + cipher.encrypt(raw)\n",
    "    \n",
    "    def decrypt(self, enc):\n",
    "        iv = enc[:BLOCK_SIZE]\n",
    "        cipher = AES.new(self.key, AES.MODE_CBC, iv)\n",
    "        return unpad(cipher.decrypt(enc[BLOCK_SIZE:]))\n",
    "\n",
    "def AES_key_padding(z):\n",
    "    if len(z) > 32 : \n",
    "        z = z[:32]\n",
    "    else:\n",
    "        for i in range(32-len(z)):\n",
    "            z = z+\"0\"\n",
    "    return z "
   ]
  },
  {
   "cell_type": "code",
   "execution_count": 30,
   "metadata": {},
   "outputs": [],
   "source": [
    "#Generate Nonce \n",
    "import binascii\n",
    "import os \n",
    "import struct \n",
    "import datetime\n",
    "\n",
    "nonce_c = int(binascii.hexlify(os.urandom(4)),16).to_bytes(4,\"big\")# 4byte random int\n",
    "ts = struct.pack(\">i\",int(datetime.datetime.timestamp(datetime.datetime.now())))\n",
    "challenge = nonce_c+ts"
   ]
  },
  {
   "cell_type": "markdown",
   "metadata": {},
   "source": [
    "### Car --> Phone Challenge"
   ]
  },
  {
   "cell_type": "code",
   "execution_count": 31,
   "metadata": {},
   "outputs": [
    {
     "name": "stdout",
     "output_type": "stream",
     "text": [
      "plain    : b'\\xbf+D\\xdccu\\x82%'\n",
      "encrypted1: b'H\\x10\\xd4\\x05\\xff\\xd1\\xabd\\xb9~Y:\\xc9j\\xd6\\xad\\xc7w\\xc3\\xe0\\x04\\x8b\\xdd\\xecG2[I\\x03\\x0b\\x04\\xd6'\n",
      "encrypted2: b'\\xba\\x02!]\\xf4\\x85o\\x14J\\xe8@\\x90\\xb6e+\\xb5\\xac\\xc6<\\x8d\\x98\\xeamf*\\x10s\\x90\\xb0:\\xf9\\x9e\\x14\\xab6\\xf8X&\\xe7\\xde\\xa7\\x08\\xcd6\\xb6\\xaf\\x88\\x1f\\xd0\\x96L\\x1cg\\xed\\x84\\xca`?\\x97\\t\\x1bA\\x02\\x91'\n"
     ]
    }
   ],
   "source": [
    "#AES key는 16의 배수이므로 키의 길이를 32바이트로 만들기 위한 패딩작업 \n",
    "AES_key1 = AES_key_padding(shared_password.decode())\n",
    "AES_key2 = AES_key_padding(Ke)\n",
    "\n",
    "Car_cipher1 = AESCipher(key=AES_key1) # 2중 암호화를 위해 Shared password를 Key로 암호화 인스턴스1 생성 \n",
    "Car_cipher2 = AESCipher(key=AES_key2)  # 2중 암호화를 위해 Ke를 Key로 암호화 인스턴스2 생성 \n",
    "\n",
    "# todo 혼다측 요구사항 (2중암호화)을 위해 register code로 한번 더 암호화 해야됨 \n",
    "# shared_password로 1차 암호화 한 후 \n",
    "# spake를 통해 만들어진 Ke로 2차 암호화 \n",
    "\n",
    "plain_challenge_from_car = challenge\n",
    "print(\"plain    :\",plain_challenge_from_car)\n",
    "\n",
    "encrypted_challenge_from_car1 = Car_cipher1.encrypt(plain_challenge_from_car)\n",
    "print(\"encrypted1:\",encrypted_challenge_from_car1)\n",
    "\n",
    "encrypted_challenge_from_car2 = Car_cipher2.encrypt(encrypted_challenge_from_car1)\n",
    "print(\"encrypted2:\",encrypted_challenge_from_car2)\n"
   ]
  },
  {
   "cell_type": "markdown",
   "metadata": {},
   "source": [
    "### Phone --> Car Challenge"
   ]
  },
  {
   "cell_type": "code",
   "execution_count": 32,
   "metadata": {},
   "outputs": [
    {
     "name": "stdout",
     "output_type": "stream",
     "text": [
      "decrypted: b'\\xbf+D\\xdccu\\x82%'\n"
     ]
    }
   ],
   "source": [
    "#AES key는 16의 배수이므로 키의 길이를 32바이트로 만들기 위한 패딩작업 \n",
    "AES_key1 = AES_key_padding(shared_password.decode())\n",
    "AES_key2 = AES_key_padding(Ke)\n",
    "\n",
    "Phone_cipher1 = AESCipher(key=AES_key1)  # 2중 암호화를 위해 Shared password를 Key로 암호화 인스턴스1 생성 \n",
    "Phone_cipher2 = AESCipher(key=AES_key2)  #  2중 암호화를 위해 Ke를 Key로 암호화 인스턴스2 생성 \n",
    "\n",
    "# 2번 복호화 \n",
    "decrypted_challenge_from_car1 = Phone_cipher2.decrypt(encrypted_challenge_from_car2)\n",
    "decrypted_challenge_from_car = Phone_cipher1.decrypt(decrypted_challenge_from_car1)\n",
    "\n",
    "print(\"decrypted:\",decrypted_challenge_from_car)"
   ]
  },
  {
   "cell_type": "code",
   "execution_count": 33,
   "metadata": {},
   "outputs": [],
   "source": [
    "username = \"AUTOCRYPT\"\n",
    "padded_username = int(username.encode().hex(),16).to_bytes(64,\"big\")"
   ]
  },
  {
   "cell_type": "code",
   "execution_count": 34,
   "metadata": {},
   "outputs": [],
   "source": [
    "plain_response_from_phone = decrypted_challenge_from_car+padded_username\n"
   ]
  },
  {
   "cell_type": "code",
   "execution_count": 35,
   "metadata": {},
   "outputs": [],
   "source": [
    "# 2중암호화 \n",
    "encrypted_response_from_phone1 = Phone_cipher1.encrypt(plain_response_from_phone)\n",
    "encrypted_response_from_phone2 = Phone_cipher2.encrypt(encrypted_response_from_phone1)"
   ]
  },
  {
   "cell_type": "markdown",
   "metadata": {},
   "source": [
    "### Car respose check (challenge solve check)"
   ]
  },
  {
   "cell_type": "code",
   "execution_count": 36,
   "metadata": {},
   "outputs": [],
   "source": [
    "#AES key는 16의 배수이므로 키의 길이를 32바이트로 만들기 위한 패딩작업 \n",
    "AES_key1 = AES_key_padding(shared_password.decode())\n",
    "AES_key2 = AES_key_padding(Ke)\n",
    "\n",
    "Car_cipher1 = AESCipher(key=AES_key1) # 2중 암호화를 위해 Shared password를 Key로 암호화 인스턴스1 생성 \n",
    "Car_cipher2 = AESCipher(key=AES_key2)  # 2중 암호화를 위해 Ke를 Key로 암호화 인스턴스2 생성 \n",
    "\n",
    "#2중 복호화 \n",
    "decrypted_response_from_phone1 = Car_cipher2.decrypt(encrypted_response_from_phone2)\n",
    "decrypted_response_from_phone = Car_cipher1.decrypt(decrypted_response_from_phone1)"
   ]
  },
  {
   "cell_type": "code",
   "execution_count": 37,
   "metadata": {},
   "outputs": [],
   "source": [
    "responsed_nonce_c = decrypted_response_from_phone[0:4]\n",
    "responsed_timestamp_c = decrypted_response_from_phone[4:8]\n",
    "responsed_username = decrypted_response_from_phone[8:]"
   ]
  },
  {
   "cell_type": "code",
   "execution_count": 38,
   "metadata": {},
   "outputs": [
    {
     "data": {
      "text/plain": [
       "True"
      ]
     },
     "execution_count": 38,
     "metadata": {},
     "output_type": "execute_result"
    }
   ],
   "source": [
    "responsed_nonce_c == nonce_c"
   ]
  },
  {
   "cell_type": "code",
   "execution_count": 39,
   "metadata": {},
   "outputs": [],
   "source": [
    "nowtime = int(datetime.datetime.timestamp(datetime.datetime.now()))\n",
    "challenge_time = int(responsed_timestamp_c.hex(),16)\n",
    "elapsed_minute = (nowtime-challenge_time)/60 "
   ]
  },
  {
   "cell_type": "code",
   "execution_count": 40,
   "metadata": {},
   "outputs": [
    {
     "data": {
      "text/plain": [
       "0.15"
      ]
     },
     "execution_count": 40,
     "metadata": {},
     "output_type": "execute_result"
    }
   ],
   "source": [
    "elapsed_minute"
   ]
  },
  {
   "cell_type": "code",
   "execution_count": 41,
   "metadata": {},
   "outputs": [
    {
     "data": {
      "text/plain": [
       "True"
      ]
     },
     "execution_count": 41,
     "metadata": {},
     "output_type": "execute_result"
    }
   ],
   "source": [
    "# 2분 이내에 challenge 해결해야할 경우 \n",
    "elapsed_minute < 2 "
   ]
  },
  {
   "cell_type": "markdown",
   "metadata": {},
   "source": [
    "### Save Shared Key (Ke) to safe location\n"
   ]
  },
  {
   "cell_type": "code",
   "execution_count": 42,
   "metadata": {},
   "outputs": [],
   "source": [
    "# RPS 시스템은 안전한 저장을 위해 NXP 칩셋 분석 필요 \n",
    "safe_file = open(\"./key\",\"w\")\n",
    "safe_file.write(Ke)\n",
    "safe_file.close()"
   ]
  },
  {
   "cell_type": "code",
   "execution_count": null,
   "metadata": {},
   "outputs": [],
   "source": []
  }
 ],
 "metadata": {
  "kernelspec": {
   "display_name": "Python 3.8.10 64-bit (microsoft store)",
   "language": "python",
   "name": "python3"
  },
  "language_info": {
   "codemirror_mode": {
    "name": "ipython",
    "version": 3
   },
   "file_extension": ".py",
   "mimetype": "text/x-python",
   "name": "python",
   "nbconvert_exporter": "python",
   "pygments_lexer": "ipython3",
   "version": "3.8.10"
  },
  "orig_nbformat": 4,
  "vscode": {
   "interpreter": {
    "hash": "ecaf67c2eed83bbe4201b93bdaacc4b80383b39fafae7a462812c913200862b6"
   }
  }
 },
 "nbformat": 4,
 "nbformat_minor": 2
}
