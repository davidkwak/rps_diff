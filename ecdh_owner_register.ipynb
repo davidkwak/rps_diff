{
 "cells": [
  {
   "cell_type": "code",
   "execution_count": 1,
   "metadata": {},
   "outputs": [],
   "source": [
    "#todo \n",
    "# 모든 값들이 32byte가 되도록 padding을 해줘야함"
   ]
  },
  {
   "cell_type": "code",
   "execution_count": 2,
   "metadata": {},
   "outputs": [],
   "source": [
    "import struct\n",
    "\n",
    "def countbytes(target):\n",
    "    if isinstance(target, str):\n",
    "        b = bytes(target,'utf-8')\n",
    "    elif isinstance(target, int):\n",
    "        b = target.to_bytes((target.bit_length() + 7) // 8, 'big')\n",
    "    else:\n",
    "        b = target\n",
    "    print(f\"original: {target}\")\n",
    "    print(f\"byte value : {b}\")\n",
    "    print(f\"size : {len(b)} bytes  \")\n"
   ]
  },
  {
   "cell_type": "code",
   "execution_count": 3,
   "metadata": {},
   "outputs": [],
   "source": [
    "import collections\n",
    "import random\n",
    "import time\n",
    "\n",
    "EllipticCurve = collections.namedtuple('EllipticCurve', 'name p a b g n h')\n",
    "\n",
    "#curve for NIST p-256\n",
    "curve = EllipticCurve(\n",
    "    'p256',\n",
    "    # Field characteristic.\n",
    "    p=0xffffffff00000001000000000000000000000000ffffffffffffffffffffffff,\n",
    "    # Curve coefficients.\n",
    "    a=0xffffffff00000001000000000000000000000000fffffffffffffffffffffffc,\n",
    "    b=0x5ac635d8aa3a93e7b3ebbd55769886bc651d06b0cc53b0f63bce3c3e27d2604b,\n",
    "    # Base point.\n",
    "    g=(0x6b17d1f2e12c4247f8bce6e563a440f277037d812deb33a0f4a13945d898c296,\n",
    "        0x4fe342e2fe1a7f9b8ee7eb4a7c0f9e162bce33576b315ececbb6406837bf51f5),\n",
    "    # Subgroup order.\n",
    "    n=0xffffffff00000000ffffffffffffffffbce6faada7179e84f3b9cac2fc632551,\n",
    "    # Subgroup cofactor.\n",
    "    h=1,\n",
    ")\n",
    "\n",
    "# Modular arithmetic ##########################################################\n",
    "def inverse_mod(k, p):\n",
    "    \"\"\"Returns the inverse of k modulo p.\n",
    "    This function returns the only integer x such that (x * k) % p == 1.\n",
    "    k must be non-zero and p must be a prime.\n",
    "    \"\"\"\n",
    "    if k == 0:\n",
    "        raise ZeroDivisionError('division by zero')\n",
    "\n",
    "    if k < 0:\n",
    "        # k ** -1 = p - (-k) ** -1  (mod p)\n",
    "        return p - inverse_mod(-k, p)\n",
    "\n",
    "    # Extended Euclidean algorithm.\n",
    "    s, old_s = 0, 1\n",
    "    t, old_t = 1, 0\n",
    "    r, old_r = p, k\n",
    "\n",
    "    while r != 0:\n",
    "        quotient = old_r // r\n",
    "        old_r, r = r, old_r - quotient * r\n",
    "        old_s, s = s, old_s - quotient * s\n",
    "        old_t, t = t, old_t - quotient * t\n",
    "\n",
    "    gcd, x, y = old_r, old_s, old_t\n",
    "\n",
    "    assert gcd == 1\n",
    "    assert (k * x) % p == 1\n",
    "\n",
    "    return x % p\n",
    "\n",
    "\n",
    "# Functions that work on curve points #########################################\n",
    "\n",
    "def is_on_curve(point):\n",
    "    \"\"\"Returns True if the given point lies on the elliptic curve.\"\"\"\n",
    "    if point is None:\n",
    "        # None represents the point at infinity.\n",
    "        return True\n",
    "\n",
    "    x, y = point\n",
    "\n",
    "    return (y * y - x * x * x - curve.a * x - curve.b) % curve.p == 0\n",
    "\n",
    "\n",
    "def point_add(point1, point2):\n",
    "    \"\"\"Returns the result of point1 + point2 according to the group law.\"\"\"\n",
    "    assert is_on_curve(point1)\n",
    "    assert is_on_curve(point2)\n",
    "\n",
    "    if point1 is None:\n",
    "        # 0 + point2 = point2\n",
    "        return point2\n",
    "    if point2 is None:\n",
    "        # point1 + 0 = point1\n",
    "        return point1\n",
    "\n",
    "    x1, y1 = point1\n",
    "    x2, y2 = point2\n",
    "\n",
    "    if x1 == x2 and y1 != y2:\n",
    "        # point1 + (-point1) = 0\n",
    "        return None\n",
    "\n",
    "    if x1 == x2:\n",
    "        # This is the case point1 == point2.\n",
    "        m = (3 * x1 * x1 + curve.a) * inverse_mod(2 * y1, curve.p)\n",
    "    else:\n",
    "        # This is the case point1 != point2.\n",
    "        m = (y1 - y2) * inverse_mod(x1 - x2, curve.p)\n",
    "\n",
    "    x3 = m * m - x1 - x2\n",
    "    y3 = y1 + m * (x3 - x1)\n",
    "    result = (x3 % curve.p, -y3 % curve.p)\n",
    "\n",
    "    assert is_on_curve(result)\n",
    "\n",
    "    return result\n",
    "\n",
    "\n",
    "def scalar_mult(k, point):\n",
    "    \"\"\"Returns k * point computed using the double and point_add algorithm.\"\"\"\n",
    "    assert is_on_curve(point)\n",
    "\n",
    "    if k % curve.n == 0 or point is None:\n",
    "        return None\n",
    "\n",
    "    if k < 0:\n",
    "        # k 가 음수일 경우 절대값으로 양수로 만듦 (현재 설정에선 음수가 나올 일은 없음)\n",
    "        # k * point = -k * (-point)\n",
    "        return scalar_mult(-k, point_neg(point))\n",
    "\n",
    "    result = None\n",
    "    addend = point\n",
    "\n",
    "    while k:\n",
    "        if k & 1:\n",
    "            # Add.\n",
    "            result = point_add(result, addend)\n",
    "\n",
    "        # Double.\n",
    "        addend = point_add(addend, addend)\n",
    "\n",
    "        k >>= 1\n",
    "\n",
    "    assert is_on_curve(result)\n",
    "\n",
    "    return result\n",
    "\n",
    "# Keypair generation and ECDSA ################################################\n",
    "def make_keypair():\n",
    "    \"\"\"Generates a random private-public key pair.\"\"\"\n",
    "    private_key = random.randrange(1, curve.n)\n",
    "    public_key = scalar_mult(private_key, curve.g)\n",
    "\n",
    "    return private_key, public_key\n"
   ]
  },
  {
   "cell_type": "markdown",
   "metadata": {},
   "source": [
    "# Challenge process"
   ]
  },
  {
   "cell_type": "code",
   "execution_count": 4,
   "metadata": {},
   "outputs": [],
   "source": [
    "from Crypto import Random\n",
    "from Crypto.Cipher import AES\n",
    "#Generate Nonce \n",
    "import binascii\n",
    "import os \n",
    "import struct \n",
    "import datetime \n",
    "\n",
    "BLOCK_SIZE = 16\n",
    "def pad(s):\n",
    "    s = s + (BLOCK_SIZE - len(s) % BLOCK_SIZE) * chr(BLOCK_SIZE - len(s) % BLOCK_SIZE).encode()\n",
    "    # print(f\"padding : {countbytes(s)}\")\n",
    "    return s\n",
    "\n",
    "def unpad(encrypted_string):\n",
    "    return encrypted_string[0:-(encrypted_string[-1])]\n",
    "\n",
    "\n",
    "class AESCipher(object):\n",
    "    def __init__(self, key):\n",
    "        self.key = key.encode()\n",
    "\n",
    "    def encrypt(self, raw):\n",
    "        raw = pad(raw)\n",
    "        iv = Random.new().read(AES.block_size)\n",
    "        # print(f\"iv : {countbytes(iv)}\")\n",
    "        cipher = AES.new(self.key, AES.MODE_CBC, iv)\n",
    "        # print(f\"cipher len : {len(cipher.encrypt(raw))}\")\n",
    "        return iv + cipher.encrypt(raw)\n",
    "    \n",
    "    def decrypt(self, enc):\n",
    "        iv = enc[:BLOCK_SIZE] \n",
    "        cipher = AES.new(self.key, AES.MODE_CBC, iv)\n",
    "        return unpad(cipher.decrypt(enc[BLOCK_SIZE:]))\n",
    "\n",
    "def AES_key_padding(z):\n",
    "    if len(z) > 32 : \n",
    "        z = z[:32]\n",
    "    else:\n",
    "        for i in range(32-len(z)):\n",
    "            z = z+\"0\"\n",
    "    return z "
   ]
  },
  {
   "cell_type": "markdown",
   "metadata": {},
   "source": [
    "# Generate Keys"
   ]
  },
  {
   "cell_type": "code",
   "execution_count": 5,
   "metadata": {},
   "outputs": [],
   "source": [
    "#input verification code (6 digits) \n",
    "registerCode = 123456\n",
    "username = \"AUTOCRYPT\""
   ]
  },
  {
   "cell_type": "code",
   "execution_count": 6,
   "metadata": {},
   "outputs": [],
   "source": [
    "# 5.1 Gen. ECDH Key pair for Phone\n",
    "# create key pair for mobile and car \n",
    "phoneSecretKey, phonePublicKey = make_keypair() # phone side \n",
    "carSecretKey, carPublicKey = make_keypair() # car side "
   ]
  },
  {
   "cell_type": "code",
   "execution_count": 7,
   "metadata": {},
   "outputs": [],
   "source": [
    "# 5.2 Send Phone Pub key\n",
    "## exchange public keys\n",
    "    #phone sends public key to car\n",
    "    #car sends public key to phone"
   ]
  },
  {
   "cell_type": "markdown",
   "metadata": {},
   "source": [
    "### Car --> Phone Challenge"
   ]
  },
  {
   "cell_type": "code",
   "execution_count": 8,
   "metadata": {},
   "outputs": [],
   "source": [
    "# 5.6.  Gen confirmation Key (Register Code)\n",
    "# calculate shared secret\n",
    "phoneSharedKey= scalar_mult(phoneSecretKey, carPublicKey)[0] # phone side \n",
    "phoneVerificationKey= scalar_mult(phoneSecretKey, carPublicKey)[1] # phone side \n",
    "\n",
    "carSharedKey = scalar_mult(carSecretKey, phonePublicKey)[0] # car side`\n",
    "carVerificationKey = scalar_mult(carSecretKey, phonePublicKey)[1] # car side`\n",
    "\n",
    "#calculate confirmation key  value\n",
    "phoneConfirmationKey = (phoneVerificationKey + registerCode) % curve.n # phone side\n",
    "carConfirmationKey = (carVerificationKey + registerCode) % curve.n # car side"
   ]
  },
  {
   "cell_type": "markdown",
   "metadata": {},
   "source": [
    "### Car --> Phone Challenge"
   ]
  },
  {
   "cell_type": "code",
   "execution_count": 9,
   "metadata": {},
   "outputs": [],
   "source": [
    "# 6.1 Gen. challenge = nonce_c(4Byte), Timestamp_c (4Byte)\n",
    "# generate challenge\n",
    "nonce_c = int(binascii.hexlify(os.urandom(4)),16).to_bytes(4,\"big\")# 4byte random int\n",
    "ts = struct.pack(\">i\",int(datetime.datetime.timestamp(datetime.datetime.now())))\n",
    "challenge = nonce_c+ts"
   ]
  },
  {
   "cell_type": "code",
   "execution_count": 10,
   "metadata": {},
   "outputs": [
    {
     "name": "stdout",
     "output_type": "stream",
     "text": [
      "original: b'\\x86\\x02u\\x8dct\\x8a\\xe8'\n",
      "byte value : b'\\x86\\x02u\\x8dct\\x8a\\xe8'\n",
      "size : 8 bytes  \n",
      "original: b'\\x92x6\\xd2\\x0c6\\x0eI\\xb67<|\\xe4\\xca\\x9e\\x07\\x00B\\xc5j\\xc8\\x98-\\x8d\\x8f~\\xe9\\xac\\xe7\\xd7\\x96\\xa7'\n",
      "byte value : b'\\x92x6\\xd2\\x0c6\\x0eI\\xb67<|\\xe4\\xca\\x9e\\x07\\x00B\\xc5j\\xc8\\x98-\\x8d\\x8f~\\xe9\\xac\\xe7\\xd7\\x96\\xa7'\n",
      "size : 32 bytes  \n",
      "original: b'E\\x88s!\\x9f\\x16\\xa0\\xf2\\xd1\\x00t\\xb4\\xd0\\x16u$\\xe2Q\\xabm+E27\\x8f3)o^\\x8a\\xa9\\x14\\x0b6\\x81\\xeb\\xa5\\x00\\xc6\\x9b\\xedT\\xf6\\xb7\\xcc\\xb0\\x7f\\xfc\\xef\\x08\\x80\\x83\\xeee9\\x11\\xb3\\xb9b\\xce\\x19\\x11~H'\n",
      "byte value : b'E\\x88s!\\x9f\\x16\\xa0\\xf2\\xd1\\x00t\\xb4\\xd0\\x16u$\\xe2Q\\xabm+E27\\x8f3)o^\\x8a\\xa9\\x14\\x0b6\\x81\\xeb\\xa5\\x00\\xc6\\x9b\\xedT\\xf6\\xb7\\xcc\\xb0\\x7f\\xfc\\xef\\x08\\x80\\x83\\xeee9\\x11\\xb3\\xb9b\\xce\\x19\\x11~H'\n",
      "size : 64 bytes  \n"
     ]
    }
   ],
   "source": [
    "#6.3 Shared key, confirmation key 순서로 2중 암호화\n",
    "\n",
    "AES_key1 = AES_key_padding(str(carSharedKey)) # 1st encryption with shared key \n",
    "AES_key2 = AES_key_padding(str(carConfirmationKey)) # 2nd encryption with confirmation key \n",
    "\n",
    "Car_cipher1 = AESCipher(key=AES_key1) # 2중 암호화를 위해 shared key 를 Key로 암호화 인스턴스1 생성 \n",
    "Car_cipher2 = AESCipher(key=AES_key2)  # 2중 암호화를 위해 confirmation key를 Key로 암호화 인스턴스2 생성 \n",
    "\n",
    "# todo 혼다측 요구사항 (2중암호화)을 위해 register code로 한번 더 암호화 해야됨 \n",
    "# shared_password로 1차 암호화 한 후 \n",
    "# spake를 통해 만들어진 Ke로 2차 암호화 \n",
    "\n",
    "plain_challenge_from_car = challenge\n",
    "# print(\"plain    :\",plain_challenge_from_car)\n",
    "countbytes(plain_challenge_from_car)\n",
    "\n",
    "encrypted_challenge_from_car1 = Car_cipher1.encrypt(plain_challenge_from_car)\n",
    "# print(\"encrypted1:\",encrypted_challenge_from_car1)\n",
    "countbytes(encrypted_challenge_from_car1)\n",
    "\n",
    "encrypted_challenge_from_car2 = Car_cipher2.encrypt(encrypted_challenge_from_car1)\n",
    "# print(\"encrypted2:\",encrypted_challenge_from_car2)\n",
    "countbytes(encrypted_challenge_from_car2)\n"
   ]
  },
  {
   "cell_type": "markdown",
   "metadata": {},
   "source": [
    "### car --> phone Challenge solve\n",
    "### Phone --> Car Challenge"
   ]
  },
  {
   "cell_type": "code",
   "execution_count": 11,
   "metadata": {},
   "outputs": [
    {
     "name": "stdout",
     "output_type": "stream",
     "text": [
      "original: b'\\x86\\x02u\\x8dct\\x8a\\xe8'\n",
      "byte value : b'\\x86\\x02u\\x8dct\\x8a\\xe8'\n",
      "size : 8 bytes  \n",
      "original: b'\\x00\\x00\\x00\\x00\\x00\\x00\\x00\\x00\\x00\\x00\\x00\\x00\\x00\\x00\\x00\\x00\\x00\\x00\\x00\\x00\\x00\\x00\\x00\\x00\\x00\\x00\\x00\\x00\\x00\\x00\\x00\\x00\\x00\\x00\\x00\\x00\\x00\\x00\\x00\\x00\\x00\\x00\\x00\\x00\\x00\\x00\\x00\\x00\\x00\\x00\\x00\\x00\\x00\\x00\\x00AUTOCRYPT'\n",
      "byte value : b'\\x00\\x00\\x00\\x00\\x00\\x00\\x00\\x00\\x00\\x00\\x00\\x00\\x00\\x00\\x00\\x00\\x00\\x00\\x00\\x00\\x00\\x00\\x00\\x00\\x00\\x00\\x00\\x00\\x00\\x00\\x00\\x00\\x00\\x00\\x00\\x00\\x00\\x00\\x00\\x00\\x00\\x00\\x00\\x00\\x00\\x00\\x00\\x00\\x00\\x00\\x00\\x00\\x00\\x00\\x00AUTOCRYPT'\n",
      "size : 64 bytes  \n",
      "original: b'\\x86\\x02u\\x8dct\\x8a\\xe8\\x00\\x00\\x00\\x00\\x00\\x00\\x00\\x00\\x00\\x00\\x00\\x00\\x00\\x00\\x00\\x00\\x00\\x00\\x00\\x00\\x00\\x00\\x00\\x00\\x00\\x00\\x00\\x00\\x00\\x00\\x00\\x00\\x00\\x00\\x00\\x00\\x00\\x00\\x00\\x00\\x00\\x00\\x00\\x00\\x00\\x00\\x00\\x00\\x00\\x00\\x00\\x00\\x00\\x00\\x00AUTOCRYPT'\n",
      "byte value : b'\\x86\\x02u\\x8dct\\x8a\\xe8\\x00\\x00\\x00\\x00\\x00\\x00\\x00\\x00\\x00\\x00\\x00\\x00\\x00\\x00\\x00\\x00\\x00\\x00\\x00\\x00\\x00\\x00\\x00\\x00\\x00\\x00\\x00\\x00\\x00\\x00\\x00\\x00\\x00\\x00\\x00\\x00\\x00\\x00\\x00\\x00\\x00\\x00\\x00\\x00\\x00\\x00\\x00\\x00\\x00\\x00\\x00\\x00\\x00\\x00\\x00AUTOCRYPT'\n",
      "size : 72 bytes  \n",
      "original: b'\\xacA\\x87\\xbci\\x07-=\\x19\\x90.\\x03\\x18\\x93\\xee\\x1dV\\xb4\\x18\\xdb\\xe8\\xf6#\\xa67\\xabO\\xa2`\\xa9\\x97~\\x19\\x1a\\xea0\\xd5?\\x1a4u\\xe8\\x0el\\xa3\\xbf\\xa5\\xfe\\xc0\\x99S\\x87\\x85\\x9c\\xb8\\x89\\xafS\\xe5\\xf5\\xf9\\xa3\\xe1\\xca\\xcd5\\x19\\xbd\\x00\\xba\\xe2\\x85\\xeb\\xf9\\x06\\xaf\\xd0\\xa8*\\x0c\\x8e\\xbe\\xb4\\xab\\x8f@{4b\\xa8bo\\xb2\\xcf\\x88\\xde'\n",
      "byte value : b'\\xacA\\x87\\xbci\\x07-=\\x19\\x90.\\x03\\x18\\x93\\xee\\x1dV\\xb4\\x18\\xdb\\xe8\\xf6#\\xa67\\xabO\\xa2`\\xa9\\x97~\\x19\\x1a\\xea0\\xd5?\\x1a4u\\xe8\\x0el\\xa3\\xbf\\xa5\\xfe\\xc0\\x99S\\x87\\x85\\x9c\\xb8\\x89\\xafS\\xe5\\xf5\\xf9\\xa3\\xe1\\xca\\xcd5\\x19\\xbd\\x00\\xba\\xe2\\x85\\xeb\\xf9\\x06\\xaf\\xd0\\xa8*\\x0c\\x8e\\xbe\\xb4\\xab\\x8f@{4b\\xa8bo\\xb2\\xcf\\x88\\xde'\n",
      "size : 96 bytes  \n",
      "original: b'5\\xabc;@x\\x96l\\x84\\xc1\\xdd\\xfcktb\\n1\\xd9t}\\n ;\\xf8E\\xfa-\\x12[\\x9f\\xefj\\xb1\\x14?wgs\\x17\\xd9\\x19d\\xf4\\xe6\\xef)-\\x8bU/a\\xad\\xe3\\xb5,8Y\\x01\\xccyy\\xe3\\xd9\\x13OF\\xa9\\xca\\xfa\\x18\\xbc\\xc9\\xf9\\x85Q\\x9f\\x14\\xa7\\x9b5\\xac\\x01\\x10\\xa7\\x08\\x10\\x08\\x06\\xb6t\\xd8\\x87B\"\\xa9J\\x18\\tRb\\xac\\xd4!\\xae\\xe5\\x0c^%\\xb9\\xec[\\x1d+\\x0f\\xb2\\xbd45\\xfaOR\\x0f\\x83\\xf7\\xde\\x9c\\xc2\\x15'\n",
      "byte value : b'5\\xabc;@x\\x96l\\x84\\xc1\\xdd\\xfcktb\\n1\\xd9t}\\n ;\\xf8E\\xfa-\\x12[\\x9f\\xefj\\xb1\\x14?wgs\\x17\\xd9\\x19d\\xf4\\xe6\\xef)-\\x8bU/a\\xad\\xe3\\xb5,8Y\\x01\\xccyy\\xe3\\xd9\\x13OF\\xa9\\xca\\xfa\\x18\\xbc\\xc9\\xf9\\x85Q\\x9f\\x14\\xa7\\x9b5\\xac\\x01\\x10\\xa7\\x08\\x10\\x08\\x06\\xb6t\\xd8\\x87B\"\\xa9J\\x18\\tRb\\xac\\xd4!\\xae\\xe5\\x0c^%\\xb9\\xec[\\x1d+\\x0f\\xb2\\xbd45\\xfaOR\\x0f\\x83\\xf7\\xde\\x9c\\xc2\\x15'\n",
      "size : 128 bytes  \n"
     ]
    }
   ],
   "source": [
    "#AES key는 16의 배수이므로 키의 길이를 32바이트로 만들기 위한 패딩작업 \n",
    "AES_key1 = AES_key_padding(str(phoneSharedKey)) # 1st encryption with shared key \n",
    "AES_key2 = AES_key_padding(str(phoneConfirmationKey)) # 2nd encryption with confirmation key \n",
    "\n",
    "Phone_cipher1 = AESCipher(key=AES_key1)  # 2중 암호화를 위해 Shared password를 Key로 암호화 인스턴스1 생성 \n",
    "Phone_cipher2 = AESCipher(key=AES_key2)  #  2중 암호화를 위해 Ke를 Key로 암호화 인스턴스2 생성 \n",
    "\n",
    "# 2번 복호화 \n",
    "decrypted_challenge_from_car1 = Phone_cipher2.decrypt(encrypted_challenge_from_car2)\n",
    "decrypted_challenge_from_car = Phone_cipher1.decrypt(decrypted_challenge_from_car1)\n",
    "countbytes(decrypted_challenge_from_car)\n",
    "\n",
    "padded_username = int(username.encode().hex(),16).to_bytes(64,\"big\")\n",
    "countbytes(padded_username)\n",
    "\n",
    "plain_response_from_phone = decrypted_challenge_from_car+padded_username\n",
    "countbytes(plain_response_from_phone)\n",
    "\n",
    "# 2중암호화 \n",
    "encrypted_response_from_phone1 = Phone_cipher1.encrypt(plain_response_from_phone)\n",
    "countbytes(encrypted_response_from_phone1)\n",
    "encrypted_response_from_phone2 = Phone_cipher2.encrypt(encrypted_response_from_phone1)\n",
    "countbytes(encrypted_response_from_phone2)"
   ]
  },
  {
   "cell_type": "markdown",
   "metadata": {},
   "source": [
    "### Car respose check (challenge solve check)"
   ]
  },
  {
   "cell_type": "code",
   "execution_count": 12,
   "metadata": {},
   "outputs": [],
   "source": [
    "#AES key는 16의 배수이므로 키의 길이를 32바이트로 만들기 위한 패딩작업 \n",
    "AES_key1 = AES_key_padding(str(carSharedKey)) # 1st encryption with shared key \n",
    "AES_key2 = AES_key_padding(str(carConfirmationKey)) # 2nd encryption with confirmation key \n",
    "\n",
    "Car_cipher1 = AESCipher(key=AES_key1) # 2중 암호화를 위해 Shared password를 Key로 암호화 인스턴스1 생성 \n",
    "Car_cipher2 = AESCipher(key=AES_key2)  # 2중 암호화를 위해 Ke를 Key로 암호화 인스턴스2 생성 \n",
    "\n",
    "#2중 복호화 \n",
    "decrypted_response_from_phone1 = Car_cipher2.decrypt(encrypted_response_from_phone2)\n",
    "decrypted_response_from_phone = Car_cipher1.decrypt(decrypted_response_from_phone1)"
   ]
  },
  {
   "cell_type": "code",
   "execution_count": 13,
   "metadata": {},
   "outputs": [
    {
     "data": {
      "text/plain": [
       "b'\\x86\\x02u\\x8dct\\x8a\\xe8\\x00\\x00\\x00\\x00\\x00\\x00\\x00\\x00\\x00\\x00\\x00\\x00\\x00\\x00\\x00\\x00\\x00\\x00\\x00\\x00\\x00\\x00\\x00\\x00\\x00\\x00\\x00\\x00\\x00\\x00\\x00\\x00\\x00\\x00\\x00\\x00\\x00\\x00\\x00\\x00\\x00\\x00\\x00\\x00\\x00\\x00\\x00\\x00\\x00\\x00\\x00\\x00\\x00\\x00\\x00AUTOCRYPT'"
      ]
     },
     "execution_count": 13,
     "metadata": {},
     "output_type": "execute_result"
    }
   ],
   "source": [
    "decrypted_response_from_phone"
   ]
  },
  {
   "cell_type": "code",
   "execution_count": 14,
   "metadata": {},
   "outputs": [],
   "source": [
    "responsed_nonce_c = decrypted_response_from_phone[0:4]\n",
    "responsed_timestamp_c = decrypted_response_from_phone[4:8]\n",
    "responsed_username = decrypted_response_from_phone[8:]\n",
    "unpad_responsed_username = responsed_username.decode().lstrip(\"\\x00\")"
   ]
  },
  {
   "cell_type": "code",
   "execution_count": 16,
   "metadata": {},
   "outputs": [],
   "source": [
    "nowtime = int(datetime.datetime.timestamp(datetime.datetime.now()))\n",
    "challenge_time = int(responsed_timestamp_c.hex(),16)\n",
    "elapsed_minute = (nowtime-challenge_time)/60 "
   ]
  },
  {
   "cell_type": "code",
   "execution_count": 17,
   "metadata": {},
   "outputs": [
    {
     "data": {
      "text/plain": [
       "0.11666666666666667"
      ]
     },
     "execution_count": 17,
     "metadata": {},
     "output_type": "execute_result"
    }
   ],
   "source": [
    "elapsed_minute"
   ]
  },
  {
   "cell_type": "code",
   "execution_count": 18,
   "metadata": {},
   "outputs": [
    {
     "data": {
      "text/plain": [
       "True"
      ]
     },
     "execution_count": 18,
     "metadata": {},
     "output_type": "execute_result"
    }
   ],
   "source": [
    "# 2분 이내에 challenge 해결해야할 경우 \n",
    "elapsed_minute < 10 "
   ]
  },
  {
   "cell_type": "markdown",
   "metadata": {},
   "source": [
    "### Save Shared Key (Ke) to safe location\n"
   ]
  },
  {
   "cell_type": "code",
   "execution_count": 28,
   "metadata": {},
   "outputs": [],
   "source": [
    "# RPS 시스템은 안전한 저장을 위해 NXP 칩셋 분석 필요 \n",
    "# safe_file = open(\"./car_key\",\"w\")\n",
    "# safe_file.write(str(carSecretKey))\n",
    "# safe_file.close()\n",
    "\n",
    "# safe_file = open(\"./phone_key\",\"w\")\n",
    "# safe_file.write(str(phoneSecretKey))\n",
    "# safe_file.close()\n",
    "\n",
    "safe_file = open(\"./car_shared_key\",\"wb\")\n",
    "safe_file.write(carSharedKey.to_bytes((carSharedKey.bit_length() + 7) // 8, 'big'))\n",
    "safe_file.close()\n",
    "\n",
    "safe_file = open(\"./phone_shared_key\",\"wb\")\n",
    "safe_file.write(phoneSharedKey.to_bytes((phoneSharedKey.bit_length() + 7) // 8, 'big'))\n",
    "safe_file.close()\n"
   ]
  },
  {
   "cell_type": "code",
   "execution_count": null,
   "metadata": {},
   "outputs": [],
   "source": []
  },
  {
   "cell_type": "code",
   "execution_count": null,
   "metadata": {},
   "outputs": [],
   "source": []
  }
 ],
 "metadata": {
  "kernelspec": {
   "display_name": "Python 3.8.10 64-bit (microsoft store)",
   "language": "python",
   "name": "python3"
  },
  "language_info": {
   "codemirror_mode": {
    "name": "ipython",
    "version": 3
   },
   "file_extension": ".py",
   "mimetype": "text/x-python",
   "name": "python",
   "nbconvert_exporter": "python",
   "pygments_lexer": "ipython3",
   "version": "3.8.10"
  },
  "orig_nbformat": 4,
  "vscode": {
   "interpreter": {
    "hash": "ecaf67c2eed83bbe4201b93bdaacc4b80383b39fafae7a462812c913200862b6"
   }
  }
 },
 "nbformat": 4,
 "nbformat_minor": 2
}
